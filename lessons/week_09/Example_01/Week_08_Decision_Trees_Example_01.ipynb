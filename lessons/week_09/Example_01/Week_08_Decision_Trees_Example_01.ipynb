{
  "nbformat": 4,
  "nbformat_minor": 0,
  "metadata": {
    "colab": {
      "name": "Week 08 - Decision Trees Example 01.ipynb",
      "provenance": [],
      "collapsed_sections": []
    },
    "kernelspec": {
      "name": "python3",
      "display_name": "Python 3"
    }
  },
  "cells": [
    {
      "cell_type": "markdown",
      "metadata": {
        "id": "0I4pgzLVtBTP"
      },
      "source": [
        "# 1.0 An end-to-end classification problem\n",
        "\n"
      ]
    },
    {
      "cell_type": "markdown",
      "metadata": {
        "id": "Dh34gim6KPtT"
      },
      "source": [
        "## 1.1 Dataset description"
      ]
    },
    {
      "cell_type": "markdown",
      "metadata": {
        "id": "iE8OJoDZ5AFK"
      },
      "source": [
        "\n",
        "\n",
        "We'll be looking at individual income in the United States. The **data** is from the **1994 census**, and contains information on an individual's **marital status**, **age**, **type of work**, and more. The **target column**, or what we want to predict, is whether individuals make less than or equal to 50k a year, or more than **50k a year**.\n",
        "\n",
        "You can download the data from the [University of California, Irvine's website](http://archive.ics.uci.edu/ml/datasets/Adult)."
      ]
    },
    {
      "cell_type": "markdown",
      "metadata": {
        "id": "7UpxKxU1Ej7f"
      },
      "source": [
        "## 1.2 Load Libraries, Train and Validation Sets"
      ]
    },
    {
      "cell_type": "code",
      "source": [
        "!pip install wandb"
      ],
      "metadata": {
        "id": "H9lLq6P4-QPb"
      },
      "execution_count": null,
      "outputs": []
    },
    {
      "cell_type": "code",
      "metadata": {
        "id": "5YAxtXO7tFvo"
      },
      "source": [
        "import pandas as pd\n",
        "import matplotlib.pyplot as plt\n",
        "from sklearn.neighbors import LocalOutlierFactor\n",
        "from sklearn.model_selection import train_test_split\n",
        "from sklearn.preprocessing import LabelEncoder\n",
        "from sklearn.preprocessing import OneHotEncoder\n",
        "from sklearn.pipeline import Pipeline\n",
        "from sklearn.tree import DecisionTreeClassifier\n",
        "from sklearn.metrics import accuracy_score\n",
        "from sklearn.metrics import classification_report\n",
        "from sklearn.metrics import confusion_matrix\n",
        "from sklearn.metrics import plot_confusion_matrix\n",
        "from sklearn.metrics import ConfusionMatrixDisplay\n",
        "from sklearn.metrics import roc_auc_score\n",
        "from sklearn.tree import plot_tree\n",
        "import wandb"
      ],
      "execution_count": null,
      "outputs": []
    },
    {
      "cell_type": "code",
      "source": [
        "!wandb login --relogin"
      ],
      "metadata": {
        "id": "UH7EG6dX-X0V"
      },
      "execution_count": null,
      "outputs": []
    },
    {
      "cell_type": "code",
      "source": [
        "# save_code tracking all changes of the notebook and sync with Wandb\n",
        "run = wandb.init(project=\"Week08_Example_01\")"
      ],
      "metadata": {
        "id": "fkclIcNO-f4I"
      },
      "execution_count": null,
      "outputs": []
    },
    {
      "cell_type": "code",
      "source": [
        "local_path = run.use_artifact(\"week_07_data_segregation/train_data.csv:latest\").file()\n",
        "df_train = pd.read_csv(local_path)\n",
        "\n",
        "local_path = run.use_artifact(\"week_07_data_segregation/test_data.csv:latest\").file()\n",
        "df_test = pd.read_csv(local_path)"
      ],
      "metadata": {
        "id": "1OUlGInp-lC-"
      },
      "execution_count": null,
      "outputs": []
    },
    {
      "cell_type": "code",
      "source": [
        "df_train.head()"
      ],
      "metadata": {
        "id": "KTPen6f-Cd1D"
      },
      "execution_count": null,
      "outputs": []
    },
    {
      "cell_type": "code",
      "source": [
        "df_test.head()"
      ],
      "metadata": {
        "id": "pTAfhhfgCiCz"
      },
      "execution_count": null,
      "outputs": []
    },
    {
      "cell_type": "markdown",
      "metadata": {
        "id": "S-DUXVHX6b3v"
      },
      "source": [
        "## 1.3 Train and Dev split"
      ]
    },
    {
      "cell_type": "code",
      "metadata": {
        "id": "qpzYMp3pCvfp"
      },
      "source": [
        "# split-out train/validation and test dataset\n",
        "x_train, x_val, y_train, y_val = train_test_split(df_train.drop(labels=\"high_income\",axis=1),\n",
        "                                                    df_train[\"high_income\"],\n",
        "                                                    test_size=0.30,\n",
        "                                                    random_state=41,\n",
        "                                                    shuffle=True,\n",
        "                                                    stratify=df_train[\"high_income\"])"
      ],
      "execution_count": null,
      "outputs": []
    },
    {
      "cell_type": "code",
      "metadata": {
        "id": "l8S6amWMwvKb"
      },
      "source": [
        "print(\"x train: {}\".format(x_train.shape))\n",
        "print(\"y train: {}\".format(y_train.shape))\n",
        "print(\"x val: {}\".format(x_val.shape))\n",
        "print(\"y val: {}\".format(y_val.shape))"
      ],
      "execution_count": null,
      "outputs": []
    },
    {
      "cell_type": "markdown",
      "metadata": {
        "id": "yVSp2519_WDo"
      },
      "source": [
        "## 1.4 Removal Outliers"
      ]
    },
    {
      "cell_type": "code",
      "metadata": {
        "id": "3GpD1w8h_Zas"
      },
      "source": [
        "# Verify if columns[int64] has outliers (without data leakage!!!!!!!)\n",
        "\n",
        "# data\n",
        "x = x_train.select_dtypes(\"int64\").copy()\n",
        "\n",
        "# identify outlier in the dataset\n",
        "lof = LocalOutlierFactor()\n",
        "outlier = lof.fit_predict(x)\n",
        "mask = outlier != -1\n",
        "\n",
        "print(\"X_train shape [original]: {}\".format(x_train.shape))\n",
        "print(\"X_train shape [outlier removal]: {}\".format(x_train.loc[mask,:].shape))\n",
        "\n",
        "# income with outliner\n",
        "x_train = x_train.loc[mask,:].copy()\n",
        "y_train = y_train[mask].copy()"
      ],
      "execution_count": null,
      "outputs": []
    },
    {
      "cell_type": "markdown",
      "metadata": {
        "id": "Kq2ceB9C6gwr"
      },
      "source": [
        "## 1.5 Encoding target variable"
      ]
    },
    {
      "cell_type": "markdown",
      "metadata": {
        "id": "xII7rHrixqhA"
      },
      "source": [
        "If a categorical target variable needs to be encoded for a classification predictive modeling problem, then the [LabelEncoder class](https://scikit-learn.org/stable/modules/generated/sklearn.preprocessing.LabelEncoder.html) can be used."
      ]
    },
    {
      "cell_type": "code",
      "metadata": {
        "id": "bK2JZqj4xyGe"
      },
      "source": [
        "# define a categorical encoding for target variable\n",
        "le = LabelEncoder()\n",
        "\n",
        "# fit and transoform y_train\n",
        "y_train = le.fit_transform(y_train)\n",
        "\n",
        "# transform y_test (avoiding data leakage)\n",
        "y_val = le.transform(y_val)\n",
        "\n",
        "print(\"Classes: {}\".format(le.classes_))"
      ],
      "execution_count": null,
      "outputs": []
    },
    {
      "cell_type": "code",
      "metadata": {
        "id": "7NKn5vCtzD6E"
      },
      "source": [
        "# just in case you need the inverse transformation\n",
        "le.inverse_transform([0, 1])"
      ],
      "execution_count": null,
      "outputs": []
    },
    {
      "cell_type": "code",
      "metadata": {
        "id": "rZcYQYHSyr6l"
      },
      "source": [
        "# sampling of transformed target variable\n",
        "print(y_train[:5],y_val[-6:-1])"
      ],
      "execution_count": null,
      "outputs": []
    },
    {
      "cell_type": "markdown",
      "metadata": {
        "id": "PjOAGU1-6m9a"
      },
      "source": [
        "## 1.6 Encoding independent variables [Experiment]"
      ]
    },
    {
      "cell_type": "code",
      "metadata": {
        "id": "HKQh7a3z2Kty"
      },
      "source": [
        "# \n",
        "# just an experimentation\n",
        "#\n",
        "\n",
        "# drop=first erase redundant column\n",
        "onehot = OneHotEncoder(sparse=False,drop=\"first\")\n",
        "# fit using x_train\n",
        "onehot.fit(x_train[\"sex\"].values.reshape(-1,1))\n",
        "\n",
        "x_val_aux = x_val.copy()\n",
        "x_train_aux = x_train.copy()\n",
        "\n",
        "# transform train and val\n",
        "x_train_aux[onehot.get_feature_names_out()] = onehot.transform(x_train_aux[\"sex\"].values.reshape(-1,1))\n",
        "x_val_aux[onehot.get_feature_names_out()] = onehot.transform(x_val_aux[\"sex\"].values.reshape(-1,1))\n",
        "\n",
        "x_val_aux.head()"
      ],
      "execution_count": null,
      "outputs": []
    },
    {
      "cell_type": "code",
      "metadata": {
        "id": "vrGt_BrW3w4J"
      },
      "source": [
        "onehot.get_feature_names_out()"
      ],
      "execution_count": null,
      "outputs": []
    },
    {
      "cell_type": "code",
      "metadata": {
        "id": "30drcOHu4aaw"
      },
      "source": [
        "onehot.inverse_transform([[0]])"
      ],
      "execution_count": null,
      "outputs": []
    },
    {
      "cell_type": "markdown",
      "metadata": {
        "id": "4SZklQ1v7R7F"
      },
      "source": [
        "## 1.7 Encoding independent variables"
      ]
    },
    {
      "cell_type": "code",
      "metadata": {
        "id": "VNgaFUUp0PAx"
      },
      "source": [
        "# just to review what are categorical columns\n",
        "x_train.select_dtypes(\"object\").columns.to_list()"
      ],
      "execution_count": null,
      "outputs": []
    },
    {
      "cell_type": "code",
      "metadata": {
        "id": "wZ2kqETJ-H1v"
      },
      "source": [
        "# 08 columns are object, transform them to Categorical\n",
        "\n",
        "# transform object columns to Categorical\n",
        "for name in x_train.select_dtypes(\"object\").columns.to_list():\n",
        "  onehot = OneHotEncoder(sparse=False,drop=\"first\")\n",
        "  # fit using x_train\n",
        "  onehot.fit(x_train[name].values.reshape(-1,1))\n",
        "\n",
        "  # transform train and test\n",
        "  x_train[onehot.get_feature_names_out()] = onehot.transform(x_train[name].values.reshape(-1,1))\n",
        "  x_val[onehot.get_feature_names_out()] = onehot.transform(x_val[name].values.reshape(-1,1))"
      ],
      "execution_count": null,
      "outputs": []
    },
    {
      "cell_type": "code",
      "metadata": {
        "id": "sy_RLu-K8vNA"
      },
      "source": [
        "x_train.head()"
      ],
      "execution_count": null,
      "outputs": []
    },
    {
      "cell_type": "code",
      "metadata": {
        "id": "tex6czNP8-df"
      },
      "source": [
        "x_val.head()"
      ],
      "execution_count": null,
      "outputs": []
    },
    {
      "cell_type": "code",
      "metadata": {
        "id": "RjqLCvc89McW"
      },
      "source": [
        "cols=['workclass','education','marital_status','occupation',\n",
        "      'relationship','race','sex','native_country']\n",
        "\n",
        "x_train.drop(labels=cols,axis=1,inplace=True)\n",
        "x_val.drop(labels=cols,axis=1,inplace=True)"
      ],
      "execution_count": null,
      "outputs": []
    },
    {
      "cell_type": "code",
      "metadata": {
        "id": "5UpNortR98D0"
      },
      "source": [
        "x_train.head()"
      ],
      "execution_count": null,
      "outputs": []
    },
    {
      "cell_type": "code",
      "metadata": {
        "id": "DZZ1Bjgd9-8T"
      },
      "source": [
        "x_val.head()"
      ],
      "execution_count": null,
      "outputs": []
    },
    {
      "cell_type": "markdown",
      "metadata": {
        "id": "3EBxTF3SAlm7"
      },
      "source": [
        "## 1.8 Modeling & tuning"
      ]
    },
    {
      "cell_type": "code",
      "metadata": {
        "id": "2hoKoSmy2nGW"
      },
      "source": [
        "# create a pipeline\n",
        "pipe = Pipeline([(\"classifier\", DecisionTreeClassifier())])\n",
        "\n",
        "# training \n",
        "pipe.fit(x_train,y_train)\n",
        "\n",
        "# final model\n",
        "predict = pipe.predict(x_val)"
      ],
      "execution_count": null,
      "outputs": []
    },
    {
      "cell_type": "code",
      "source": [
        "# confusion matrix (we change the way to make equal to slides)\n",
        "#             true label\n",
        "#               1     0     \n",
        "# predict  1    TP    FP\n",
        "#          0    FN    TN\n",
        "#\n",
        "\n",
        "confusion_matrix(predict,y_val,\n",
        "                 labels=[1,0])"
      ],
      "metadata": {
        "id": "bJwZDoTHGs7J"
      },
      "execution_count": null,
      "outputs": []
    },
    {
      "cell_type": "code",
      "source": [
        "print(accuracy_score(y_val, predict))\n",
        "print(classification_report(y_val,predict))"
      ],
      "metadata": {
        "id": "EHGd34qAG1mO"
      },
      "execution_count": null,
      "outputs": []
    },
    {
      "cell_type": "code",
      "source": [
        "fig, ax = plt.subplots(1,1,figsize=(7,4))\n",
        "\n",
        "ConfusionMatrixDisplay(confusion_matrix(predict,y_val,labels=[1,0]),\n",
        "                       display_labels=[\">50k\",\"<=50k\"],).plot(values_format=\".0f\",ax=ax)\n",
        "\n",
        "ax.set_xlabel(\"True Label\")\n",
        "ax.set_ylabel(\"Predicted Label\")\n",
        "plt.show()"
      ],
      "metadata": {
        "id": "-2rUclxJG8Qn"
      },
      "execution_count": null,
      "outputs": []
    },
    {
      "cell_type": "code",
      "source": [
        "roc_auc_score(y_val, predict, average=\"macro\")"
      ],
      "metadata": {
        "id": "A8B6Bs1VJocx"
      },
      "execution_count": null,
      "outputs": []
    },
    {
      "cell_type": "code",
      "source": [
        "from sklearn.tree import plot_tree # to draw a classification tree\n",
        "fig, ax = plt.subplots(1,1, figsize=(15, 10))\n",
        "plot_tree(pipe[\"classifier\"], \n",
        "          filled=True, \n",
        "          rounded=True, \n",
        "          class_names=[\"<=50k\", \">50k\"],\n",
        "          feature_names=x_val.columns, ax=ax)\n",
        "plt.show()"
      ],
      "metadata": {
        "id": "Y740s5OJHGh5"
      },
      "execution_count": null,
      "outputs": []
    }
  ]
}