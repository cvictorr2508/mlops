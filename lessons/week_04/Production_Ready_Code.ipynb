{
 "cells": [
  {
   "cell_type": "markdown",
   "metadata": {
    "id": "kCLgiiXd7KTl"
   },
   "source": [
    "# Catching Errors"
   ]
  },
  {
   "cell_type": "code",
   "execution_count": null,
   "metadata": {
    "colab": {
     "base_uri": "https://localhost:8080/"
    },
    "executionInfo": {
     "elapsed": 334,
     "status": "ok",
     "timestamp": 1635090782184,
     "user": {
      "displayName": "Ivanovitch Silva",
      "photoUrl": "https://lh3.googleusercontent.com/a-/AOh14Git9r91cROvzBPiAlvwQtPMEFxLz44uDidMPM-PrQ=s64",
      "userId": "06428777505436195303"
     },
     "user_tz": 180
    },
    "id": "airQsclR8E4j",
    "outputId": "670c4c57-c7c4-45fc-90a0-2f1f895e55e3"
   },
   "outputs": [
    {
     "name": "stdout",
     "output_type": "stream",
     "text": [
      "There is no such my_file.csv\n"
     ]
    }
   ],
   "source": [
    "import pandas as pd\n",
    "\n",
    "def read_data(file_path):\n",
    "    try:\n",
    "        df = pd.read_csv(file_path)\n",
    "    except:\n",
    "        print(\"There is no such {}\".format(file_path))\n",
    "read_data(\"my_file.csv\")"
   ]
  },
  {
   "cell_type": "markdown",
   "metadata": {
    "id": "ogslRfPjBa1m"
   },
   "source": [
    "## Exercise 01"
   ]
  },
  {
   "cell_type": "code",
   "execution_count": null,
   "metadata": {
    "id": "B49r-T_dBdpP"
   },
   "outputs": [],
   "source": [
    "def divide_vals(numerator, denominator):\n",
    "    '''\n",
    "    Args:\n",
    "        numerator: (float) numerator of fraction\n",
    "        denominator: (float) denominator of fraction\n",
    "\n",
    "    Returns:\n",
    "        fraction_val: (float) numerator/denominator\n",
    "    '''\n",
    "\n",
    "def num_words(text):\n",
    "    '''\n",
    "    Args:\n",
    "        text: (string) string of words\n",
    "\n",
    "    Returns:\n",
    "        num_words: (int) number of words in the string\n",
    "    '''"
   ]
  },
  {
   "cell_type": "markdown",
   "metadata": {
    "id": "QOAhAKo0Bjal"
   },
   "source": [
    "Solution"
   ]
  },
  {
   "cell_type": "code",
   "execution_count": null,
   "metadata": {
    "id": "uErGX9_47PEM"
   },
   "outputs": [],
   "source": [
    "def divide_vals(numerator, denominator):\n",
    "    '''\n",
    "    Args:\n",
    "        numerator: (float) numerator of fraction\n",
    "        denominator: (float) denominator of fraction\n",
    "\n",
    "    Returns:\n",
    "        fraction_val: (float) numerator/denominator\n",
    "    '''\n",
    "    try:\n",
    "        fraction_val = numerator/denominator\n",
    "        return fraction_val\n",
    "    except ZeroDivisionError:\n",
    "        return \"denominator cannot be zero\""
   ]
  },
  {
   "cell_type": "code",
   "execution_count": null,
   "metadata": {
    "id": "X3ZyzsxI7dFz"
   },
   "outputs": [],
   "source": [
    "def num_words(text):\n",
    "    '''\n",
    "    Args:\n",
    "        text: (string) string of words\n",
    "\n",
    "    Returns:\n",
    "        num_words: (int) number of words in the string\n",
    "    '''\n",
    "    try:\n",
    "        num_words = len(text.split())\n",
    "        return num_words\n",
    "    except AttributeError:\n",
    "        return \"text argument must be a string\""
   ]
  },
  {
   "cell_type": "code",
   "execution_count": null,
   "metadata": {
    "colab": {
     "base_uri": "https://localhost:8080/"
    },
    "executionInfo": {
     "elapsed": 336,
     "status": "ok",
     "timestamp": 1635089546592,
     "user": {
      "displayName": "Ivanovitch Silva",
      "photoUrl": "https://lh3.googleusercontent.com/a-/AOh14Git9r91cROvzBPiAlvwQtPMEFxLz44uDidMPM-PrQ=s64",
      "userId": "06428777505436195303"
     },
     "user_tz": 180
    },
    "id": "irUoL79U7i74",
    "outputId": "5a186862-e6d1-46d5-93ae-21af25bbd648"
   },
   "outputs": [
    {
     "data": {
      "application/vnd.google.colaboratory.intrinsic+json": {
       "type": "string"
      },
      "text/plain": [
       "'denominator cannot be zero'"
      ]
     },
     "execution_count": 4,
     "metadata": {},
     "output_type": "execute_result"
    }
   ],
   "source": [
    "divide_vals(3,0)"
   ]
  },
  {
   "cell_type": "markdown",
   "metadata": {
    "id": "W0vaJ4z57l6y"
   },
   "source": [
    "# Testing and Data Science"
   ]
  },
  {
   "cell_type": "code",
   "execution_count": 3,
   "metadata": {
    "executionInfo": {
     "elapsed": 330,
     "status": "ok",
     "timestamp": 1635285806593,
     "user": {
      "displayName": "Ivanovitch Silva",
      "photoUrl": "https://lh3.googleusercontent.com/a-/AOh14Git9r91cROvzBPiAlvwQtPMEFxLz44uDidMPM-PrQ=s64",
      "userId": "06428777505436195303"
     },
     "user_tz": 180
    },
    "id": "H9azZG5jUov7"
   },
   "outputs": [],
   "source": [
    "def nearest_square(num):\n",
    "    \"\"\"\n",
    "    Return the nearest perfect square that is\n",
    "    less than or equal to num\n",
    "    \"\"\"\n",
    "    root = 0\n",
    "    while (root + 1) ** 2 <= num:\n",
    "        root += 1\n",
    "    return root ** 2"
   ]
  },
  {
   "cell_type": "code",
   "execution_count": 4,
   "metadata": {
    "colab": {
     "base_uri": "https://localhost:8080/"
    },
    "executionInfo": {
     "elapsed": 350,
     "status": "ok",
     "timestamp": 1635285829119,
     "user": {
      "displayName": "Ivanovitch Silva",
      "photoUrl": "https://lh3.googleusercontent.com/a-/AOh14Git9r91cROvzBPiAlvwQtPMEFxLz44uDidMPM-PrQ=s64",
      "userId": "06428777505436195303"
     },
     "user_tz": 180
    },
    "id": "xnYjhry_VBPb",
    "outputId": "8fc80a93-85eb-4508-ab9c-e5dd39431ec1"
   },
   "outputs": [
    {
     "name": "stdout",
     "output_type": "stream",
     "text": [
      "Nearest square <= 5: returned 4, correct answer is 4\n",
      "Nearest square <= -12: returned 0, correct answer is 0\n",
      "Nearest square <= 9: returned 9, correct answer is 9\n",
      "Nearest square <= 23: returned 16, correct answer is 16\n"
     ]
    }
   ],
   "source": [
    "print(\"Nearest square <= 5: returned {}, correct answer is 4\".format(nearest_square(5)))\n",
    "print(\"Nearest square <= -12: returned {}, correct answer is 0\".format(nearest_square(-12)))\n",
    "print(\"Nearest square <= 9: returned {}, correct answer is 9\".format(nearest_square(9)))\n",
    "print(\"Nearest square <= 23: returned {}, correct answer is 16\".format(nearest_square(23)))"
   ]
  },
  {
   "cell_type": "markdown",
   "metadata": {
    "id": "hNJVuezKVVfV"
   },
   "source": [
    "## Pytest"
   ]
  },
  {
   "cell_type": "markdown",
   "metadata": {
    "id": "pd8QNG1J9y7U"
   },
   "source": [
    "1. install `pytest`\n",
    "2. install `pytest-sugar` which will give us nicer output"
   ]
  },
  {
   "cell_type": "code",
   "execution_count": 5,
   "metadata": {
    "colab": {
     "base_uri": "https://localhost:8080/"
    },
    "executionInfo": {
     "elapsed": 5367,
     "status": "ok",
     "timestamp": 1635285916273,
     "user": {
      "displayName": "Ivanovitch Silva",
      "photoUrl": "https://lh3.googleusercontent.com/a-/AOh14Git9r91cROvzBPiAlvwQtPMEFxLz44uDidMPM-PrQ=s64",
      "userId": "06428777505436195303"
     },
     "user_tz": 180
    },
    "id": "73mta-DffytC",
    "outputId": "8fea3f40-eae8-4019-cedb-cdf86cc7e861"
   },
   "outputs": [
    {
     "name": "stdout",
     "output_type": "stream",
     "text": [
      "  Building wheel for pytest-sugar (setup.py) ... \u001b[?25l\u001b[?25hdone\n"
     ]
    }
   ],
   "source": [
    "!pip -q install pytest pytest-sugar"
   ]
  },
  {
   "cell_type": "code",
   "execution_count": 6,
   "metadata": {
    "colab": {
     "base_uri": "https://localhost:8080/",
     "height": 52
    },
    "executionInfo": {
     "elapsed": 315,
     "status": "ok",
     "timestamp": 1635285954796,
     "user": {
      "displayName": "Ivanovitch Silva",
      "photoUrl": "https://lh3.googleusercontent.com/a-/AOh14Git9r91cROvzBPiAlvwQtPMEFxLz44uDidMPM-PrQ=s64",
      "userId": "06428777505436195303"
     },
     "user_tz": 180
    },
    "id": "XOhFF_oGf154",
    "outputId": "9319d026-6cf3-499e-c010-2e59217c7fc2"
   },
   "outputs": [
    {
     "name": "stdout",
     "output_type": "stream",
     "text": [
      "/content/tdd\n"
     ]
    },
    {
     "data": {
      "application/vnd.google.colaboratory.intrinsic+json": {
       "type": "string"
      },
      "text/plain": [
       "'/content/tdd'"
      ]
     },
     "execution_count": 6,
     "metadata": {},
     "output_type": "execute_result"
    }
   ],
   "source": [
    "# move to tdd directory\n",
    "from pathlib import Path\n",
    "if Path.cwd().name != 'tdd':\n",
    "    %mkdir tdd\n",
    "    %cd tdd\n",
    "\n",
    "%pwd"
   ]
  },
  {
   "cell_type": "code",
   "execution_count": 7,
   "metadata": {
    "colab": {
     "base_uri": "https://localhost:8080/"
    },
    "executionInfo": {
     "elapsed": 334,
     "status": "ok",
     "timestamp": 1635285969290,
     "user": {
      "displayName": "Ivanovitch Silva",
      "photoUrl": "https://lh3.googleusercontent.com/a-/AOh14Git9r91cROvzBPiAlvwQtPMEFxLz44uDidMPM-PrQ=s64",
      "userId": "06428777505436195303"
     },
     "user_tz": 180
    },
    "id": "b9t8t-wvgFs8",
    "outputId": "00215bf9-aba4-4727-844e-40613d4b3fba"
   },
   "outputs": [
    {
     "name": "stdout",
     "output_type": "stream",
     "text": [
      "rm: cannot remove '*.py': No such file or directory\n"
     ]
    }
   ],
   "source": [
    "# cleanup all files\n",
    "%rm *.py"
   ]
  },
  {
   "cell_type": "markdown",
   "metadata": {
    "id": "WB1QY4sbPs4-"
   },
   "source": [
    "### How pytest discovers tests\n",
    "\n",
    "pytests uses the following [conventions](https://docs.pytest.org/en/latest/goodpractices.html#conventions-for-python-test-discovery) to automatically discovering tests:\n",
    "  1. files with tests should be called `test_*.py` or `*_test.py `\n",
    "  2. test function name should start with `test_`\n",
    "\n",
    "\n"
   ]
  },
  {
   "cell_type": "markdown",
   "metadata": {
    "id": "uJjWla1qxd3i"
   },
   "source": [
    "### Our first test\n",
    "To see if our code works, we can use the `assert` python keyword. pytest adds hooks to assertions to make them more useful"
   ]
  },
  {
   "cell_type": "code",
   "execution_count": 8,
   "metadata": {
    "colab": {
     "base_uri": "https://localhost:8080/"
    },
    "executionInfo": {
     "elapsed": 302,
     "status": "ok",
     "timestamp": 1635286087788,
     "user": {
      "displayName": "Ivanovitch Silva",
      "photoUrl": "https://lh3.googleusercontent.com/a-/AOh14Git9r91cROvzBPiAlvwQtPMEFxLz44uDidMPM-PrQ=s64",
      "userId": "06428777505436195303"
     },
     "user_tz": 180
    },
    "id": "9acpZigRVANF",
    "outputId": "a38e857a-a1d5-4b60-f1ca-ba686d076a55"
   },
   "outputs": [
    {
     "name": "stdout",
     "output_type": "stream",
     "text": [
      "Writing nearest.py\n"
     ]
    }
   ],
   "source": [
    "%%file nearest.py\n",
    "\"\"\"\n",
    "Creator: Ivanovitch Silva\n",
    "Data: October 2021\n",
    "\"\"\"\n",
    "# %%file is an alias for the %%writefile cell magic\n",
    "# in ipython, which writes the contents of this cell\n",
    "# to the file specified\n",
    "\n",
    "def nearest_square(num):\n",
    "    \"\"\"\n",
    "    Return the nearest perfect square that is\n",
    "    less than or equal to num\n",
    "    \"\"\"\n",
    "    root = 0\n",
    "    while (root + 1) ** 2 <= num:\n",
    "        root += 1\n",
    "    return root ** 2"
   ]
  },
  {
   "cell_type": "code",
   "execution_count": 11,
   "metadata": {
    "colab": {
     "base_uri": "https://localhost:8080/"
    },
    "executionInfo": {
     "elapsed": 298,
     "status": "ok",
     "timestamp": 1635286295908,
     "user": {
      "displayName": "Ivanovitch Silva",
      "photoUrl": "https://lh3.googleusercontent.com/a-/AOh14Git9r91cROvzBPiAlvwQtPMEFxLz44uDidMPM-PrQ=s64",
      "userId": "06428777505436195303"
     },
     "user_tz": 180
    },
    "id": "UOOT3iUYhy1s",
    "outputId": "67c15140-d9a6-4b10-a469-8781f97490d3"
   },
   "outputs": [
    {
     "name": "stdout",
     "output_type": "stream",
     "text": [
      "Overwriting test_nearest.py\n"
     ]
    }
   ],
   "source": [
    "%%file test_nearest.py\n",
    "\"\"\"\n",
    "Test file to be used to pytest\n",
    "\"\"\"\n",
    "\n",
    "# files with tests should be called test_*.py or *_test.py\n",
    "# test function name should start with test_\n",
    "from nearest import nearest_square\n",
    "\n",
    "def test_nearest_square_5():\n",
    "    assert(nearest_square(5) == 4)\n",
    "\n",
    "def test_nearest_square_n12():\n",
    "    assert(nearest_square(-12) == 0)\n",
    "\n",
    "def test_nearest_square_9():\n",
    "    assert(nearest_square(9) == 9)\n",
    "\n",
    "def test_nearest_square_23():\n",
    "    assert(nearest_square(23) == 16)\n"
   ]
  },
  {
   "cell_type": "markdown",
   "metadata": {
    "id": "XTBnZ3-vVe0p"
   },
   "source": [
    "Now lets run pytest"
   ]
  },
  {
   "cell_type": "code",
   "execution_count": 12,
   "metadata": {
    "colab": {
     "base_uri": "https://localhost:8080/"
    },
    "executionInfo": {
     "elapsed": 779,
     "status": "ok",
     "timestamp": 1635286309155,
     "user": {
      "displayName": "Ivanovitch Silva",
      "photoUrl": "https://lh3.googleusercontent.com/a-/AOh14Git9r91cROvzBPiAlvwQtPMEFxLz44uDidMPM-PrQ=s64",
      "userId": "06428777505436195303"
     },
     "user_tz": 180
    },
    "id": "DXBQkMc8VeD8",
    "outputId": "0f68e0ef-1300-4db4-d3b8-b18785a23d03"
   },
   "outputs": [
    {
     "name": "stdout",
     "output_type": "stream",
     "text": [
      "\u001b[1mTest session starts (platform: linux, Python 3.7.12, pytest 3.6.4, pytest-sugar 0.9.4)\u001b[0m\n",
      "rootdir: /content/tdd, inifile:\n",
      "plugins: typeguard-2.7.1, sugar-0.9.4\n",
      "\r\n",
      "\r",
      " \u001b[36m\u001b[0mtest_nearest.py\u001b[0m \u001b[32m✓\u001b[0m                                                \u001b[32m25% \u001b[0m\u001b[40m\u001b[32m█\u001b[0m\u001b[40m\u001b[32m█▌       \u001b[0m\n",
      "\n",
      "――――――――――――――――――――――――――― test_nearest_square_n12 ――――――――――――――――――――――――――――\n",
      "\n",
      "\u001b[1m    def test_nearest_square_n12():\u001b[0m\n",
      "\u001b[1m>       assert(nearest_square(-12) == 1)\u001b[0m\n",
      "\u001b[1m\u001b[31mE       assert 0 == 1\u001b[0m\n",
      "\u001b[1m\u001b[31mE        +  where 0 = nearest_square(-12)\u001b[0m\n",
      "\n",
      "\u001b[1m\u001b[31mtest_nearest.py\u001b[0m:13: AssertionError\n",
      "\r\n",
      "\r",
      " \u001b[36m\u001b[0mtest_nearest.py\u001b[0m \u001b[31m⨯\u001b[0m                                                \u001b[31m50% \u001b[0m\u001b[40m\u001b[32m█\u001b[0m\u001b[40m\u001b[32m█\u001b[0m\u001b[40m\u001b[31m█\u001b[0m\u001b[40m\u001b[31m██     \u001b[0m\r",
      " \u001b[36m\u001b[0mtest_nearest.py\u001b[0m \u001b[31m⨯\u001b[0m\u001b[32m✓\u001b[0m                                               \u001b[31m75% \u001b[0m\u001b[40m\u001b[32m█\u001b[0m\u001b[40m\u001b[32m█\u001b[0m\u001b[40m\u001b[31m█\u001b[0m\u001b[40m\u001b[31m██\u001b[0m\u001b[40m\u001b[32m█\u001b[0m\u001b[40m\u001b[32m█▌  \u001b[0m\r",
      " \u001b[36m\u001b[0mtest_nearest.py\u001b[0m \u001b[31m⨯\u001b[0m\u001b[32m✓\u001b[0m\u001b[32m✓\u001b[0m                                             \u001b[31m100% \u001b[0m\u001b[40m\u001b[32m█\u001b[0m\u001b[40m\u001b[32m█\u001b[0m\u001b[40m\u001b[31m█\u001b[0m\u001b[40m\u001b[31m██\u001b[0m\u001b[40m\u001b[32m█\u001b[0m\u001b[40m\u001b[32m█\u001b[0m\u001b[40m\u001b[32m█\u001b[0m\u001b[40m\u001b[32m██\u001b[0m\n",
      "\n",
      "Results (0.04s):\n",
      "\u001b[32m       3 passed\u001b[0m\n",
      "\u001b[31m       1 failed\u001b[0m\n",
      "         - \u001b[36m\u001b[0mtest_nearest.py\u001b[0m:12 \u001b[31mtest_nearest_square_n12\u001b[0m\n"
     ]
    }
   ],
   "source": [
    "!python -m pytest test_nearest.py "
   ]
  },
  {
   "cell_type": "markdown",
   "metadata": {
    "id": "eipIMeyBjCVi"
   },
   "source": [
    "# Logging"
   ]
  },
  {
   "cell_type": "markdown",
   "metadata": {
    "id": "PvmIdIvBsiUf"
   },
   "source": [
    "Reference: https://realpython.com/python-logging\n"
   ]
  },
  {
   "cell_type": "markdown",
   "metadata": {
    "id": "ptyQ4Gj7rQxL"
   },
   "source": [
    "Solution 1"
   ]
  },
  {
   "cell_type": "code",
   "execution_count": null,
   "metadata": {
    "id": "TSuBrROkqwTT"
   },
   "outputs": [],
   "source": [
    "import logging\n",
    "import pandas as pd\n",
    "\n",
    "def read_data(file_path):\n",
    "    try:\n",
    "        df = pd.read_csv(file_path)\n",
    "        return df\n",
    "    except:\n",
    "        print(\"There is no such {}\".format(file_path))"
   ]
  },
  {
   "cell_type": "code",
   "execution_count": null,
   "metadata": {
    "colab": {
     "base_uri": "https://localhost:8080/"
    },
    "executionInfo": {
     "elapsed": 312,
     "status": "ok",
     "timestamp": 1635119485694,
     "user": {
      "displayName": "Ivanovitch Silva",
      "photoUrl": "https://lh3.googleusercontent.com/a-/AOh14Git9r91cROvzBPiAlvwQtPMEFxLz44uDidMPM-PrQ=s64",
      "userId": "06428777505436195303"
     },
     "user_tz": 180
    },
    "id": "HqDJNEelq1xc",
    "outputId": "661f4199-6a35-472a-83e8-dc477c74634a"
   },
   "outputs": [
    {
     "name": "stdout",
     "output_type": "stream",
     "text": [
      "There is no such my_file.csv\n"
     ]
    }
   ],
   "source": [
    "read_data(\"my_file.csv\")"
   ]
  },
  {
   "cell_type": "markdown",
   "metadata": {
    "id": "O6NeSmBKrcOW"
   },
   "source": [
    "Solution 2"
   ]
  },
  {
   "cell_type": "code",
   "execution_count": null,
   "metadata": {
    "id": "nTq448YwrDnU"
   },
   "outputs": [],
   "source": [
    "import logging\n",
    "import pandas as pd\n",
    "\n",
    "logging.basicConfig(\n",
    "    filename='./results.log',\n",
    "    level=logging.INFO,\n",
    "    filemode='w',\n",
    "    format='%(name)s - %(levelname)s - %(message)s')\n",
    "\n",
    "def read_data(file_path):\n",
    "    try:\n",
    "        df = pd.read_csv(file_path)\n",
    "        logging.info(\"SUCCESS: There are {} rows in your dataframe\".format(df.shape[0]))\n",
    "        return df\n",
    "    except:\n",
    "        logging.error(\"ERROR: we were not able to find {}\".format(file_path))"
   ]
  },
  {
   "cell_type": "code",
   "execution_count": null,
   "metadata": {
    "id": "1T8vTORdrvMT"
   },
   "outputs": [],
   "source": [
    "read_data(\"/content/sample_data/california_housing_test.csv\")"
   ]
  },
  {
   "cell_type": "markdown",
   "metadata": {
    "id": "MczhW3NlvMBl"
   },
   "source": [
    "# Testing & Logging"
   ]
  },
  {
   "cell_type": "code",
   "execution_count": null,
   "metadata": {
    "id": "bmRZx2MXCPO2"
   },
   "outputs": [],
   "source": [
    "## STEPS TO COMPLETE ##\n",
    "# 1. import logging\n",
    "# 2. set up config file for logging called `test_results.log`\n",
    "# 3. add try except with logging and assert tests for each function\n",
    "#    - consider denominator not zero (divide_vals)\n",
    "#    - consider that values must be floats (divide_vals)\n",
    "#    - consider text must be string (num_words)\n",
    "# 4. check to see that the log is created and populated correctly\n",
    "#    should have error for first function and success for\n",
    "#    the second\n",
    "# 5. use pylint and autopep8 to make changes\n",
    "#    and receive 10/10 pep8 score\n",
    "\n",
    "def divide_vals(numerator, denominator):\n",
    "    '''\n",
    "    Args:\n",
    "        numerator: (float) numerator of fraction\n",
    "        denominator: (float) denominator of fraction\n",
    "\n",
    "    Returns:\n",
    "        fraction_val: (float) numerator/denominator\n",
    "    '''\n",
    "    fraction_val = numerator / denominator\n",
    "    return fraction_val\n",
    "\n",
    "def num_words(text):\n",
    "    '''\n",
    "    Args:\n",
    "        text: (string) string of words\n",
    "\n",
    "    Returns:\n",
    "        num_words: (int) number of words in the string\n",
    "    '''\n",
    "    total_words = len(text.split())\n",
    "    return total_words\n",
    "\n",
    "if __name__ == \"__main__\":\n",
    "    divide_vals(3.4, 0)\n",
    "    divide_vals(4.5, 2.7)\n",
    "    divide_vals(-3.8, 2.1)\n",
    "    divide_vals(1, 2)\n",
    "    num_words(5)\n",
    "    num_words('This is the best string')\n",
    "    num_words('one')"
   ]
  },
  {
   "cell_type": "code",
   "execution_count": null,
   "metadata": {
    "id": "EwydZNRVCjwn"
   },
   "outputs": [],
   "source": []
  }
 ],
 "metadata": {
  "colab": {
   "authorship_tag": "ABX9TyP7Ga3mrVkCLBKIKmTbpSm/",
   "name": "Production_Ready_Code.ipynb",
   "provenance": []
  },
  "kernelspec": {
   "display_name": "Python 3",
   "name": "python3"
  },
  "language_info": {
   "name": "python"
  }
 },
 "nbformat": 4,
 "nbformat_minor": 0
}
