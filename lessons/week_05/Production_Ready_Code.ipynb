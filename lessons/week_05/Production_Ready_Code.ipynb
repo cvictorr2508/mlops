{
  "cells": [
    {
      "cell_type": "markdown",
      "metadata": {
        "id": "kCLgiiXd7KTl"
      },
      "source": [
        "# 1. Catching Errors"
      ]
    },
    {
      "cell_type": "markdown",
      "source": [
        "Catching errors is a fundamental part of Python programming, and it's essential when working with **MLOps (Machine Learning Operations)** where smooth operations are critical.\n"
      ],
      "metadata": {
        "id": "fb-Je3eKVeC5"
      }
    },
    {
      "cell_type": "markdown",
      "source": [
        "## Why is Error Handling Essential in MLOps?\n"
      ],
      "metadata": {
        "id": "oGNaiOHqVrb8"
      }
    },
    {
      "cell_type": "markdown",
      "source": [
        "\n",
        "- **Maintaining Reliability**: Error handling ensures that the system is robust and can gracefully handle unexpected situations without crashing. In an MLOps setting, this is crucial for maintaining a reliable pipeline that is responsible for training, validating, and deploying machine learning models.\n",
        "\n",
        "- **Debugging and Monitoring**: Catching and logging errors appropriately makes debugging easier and facilitates monitoring. When running machine learning models at scale, proper logging and monitoring can save a lot of time and resources.\n",
        "\n",
        "- **User Experience**: In MLOps, the ``user`` might be another system or API that interacts with your machine learning pipeline. Proper error handling can communicate more clearly what went wrong, making it easier for other systems to respond appropriately.\n",
        "\n",
        "- **Resource Optimization**: Unhandled errors can cause resource leaks (e.g., memory, file handles, etc.), which in an MLOps scenario can become quite costly, both in terms of computational power and money.\n",
        "\n",
        "- **Data Integrity**: Poor error handling can lead to inconsistencies in the data, which in turn can produce incorrect model training or erroneous predictions. This is especially problematic in applications like healthcare or finance where the stakes are high.\n",
        "\n",
        "- **Legal and Compliance Risks**: Especially in regulated industries, failure to properly handle errors could lead to breaches of compliance, resulting in financial and legal repercussions.\n",
        "\n",
        "- **Automation and Scalability**: One of the goals of MLOps is to automate the machine learning lifecycle. Robust error handling is essential for automation, as human intervention should be minimized."
      ],
      "metadata": {
        "id": "c1XCvg0tVtht"
      }
    },
    {
      "cell_type": "markdown",
      "source": [
        "## Real-world Examples: Scenarios Where Poor Error Handling Led to System Failures\n"
      ],
      "metadata": {
        "id": "2f6HMujqWCQC"
      }
    },
    {
      "cell_type": "markdown",
      "source": [
        "- **Data Loading Failures**: Imagine an MLOps pipeline that trains a new model every day based on newly ingested data. One day, the data source changes its format without notice, and the pipeline fails to handle this change gracefully. As a result, no model is trained for that day, impacting various downstream applications.\n",
        "\n",
        "- **API Rate Limiting**: Suppose your MLOps pipeline pulls data from an external API. If the API imposes rate limiting and your system doesn't handle this exception, the pipeline might crash or get stuck in an infinite loop, causing a series of failures downstream.\n",
        "\n",
        "- **Resource Exhaustion**: Imagine a machine learning model that's part of a recommendation engine for an e-commerce website. Poor error handling results in memory leaks, eventually crashing the recommendation service during peak sales hours, leading to significant loss of revenue.\n",
        "\n",
        "- **Timeout Errors**: In a complex MLOps setting, various services might depend on each other. Poor handling of timeout errors can cascade, causing a failure in multiple dependent systems.\n",
        "\n",
        "- **Inadequate Rollback Mechanisms**: Let's say a deployment process is designed to roll back to the previous version of a model if a new deployment fails. Poor error handling could result in a failed rollback, leaving the system in an unstable state."
      ],
      "metadata": {
        "id": "G_F09NZ2WHbg"
      }
    },
    {
      "cell_type": "markdown",
      "source": [
        "## Python Exception Handling\n"
      ],
      "metadata": {
        "id": "7J0A3O8CWjMq"
      }
    },
    {
      "cell_type": "markdown",
      "source": [
        "As we work with Python, especially in critical systems like MLOps where stability and predictability are paramount, you'll encounter errors and exceptions that can interrupt program flow. Python provides a powerful set of tools to handle these exceptions: **``try``**, **``except``**, **``finally``**, and **``else``**. By understanding the control flow among them, you can write more robust code, which is particularly useful in a field as error-prone and dynamic as MLOps.\n",
        "\n",
        "> **``try`` block**\n",
        "\n",
        "- **What it is**: The **``try``** block is where you write code that you suspect might raise an exception at some point. This is the code you **``try``** to execute.\n",
        "- **How it works**: When the code inside the **``try``** block encounters an exception, the rest of the **``try``** block's code is skipped, and the program jumps to the **``except``** block.\n",
        "\n",
        "```python\n",
        "try:\n",
        "    x = 1 / 0  # This will raise a ZeroDivisionError\n",
        "except ZeroDivisionError:\n",
        "    print(\"Cannot divide by zero!\")\n",
        "```\n",
        "\n",
        "> **``except`` block**\n",
        "\n",
        "- **What it is**: The **``except``** block catches the exception that arises in the **``try``** block.\n",
        "- **How it works**: You can specify what types of exceptions to catch. The code inside the **``except``** block is only executed if an exception is thrown in the **``try``** block.\n",
        "- **Multiple Except Blocks**: You can have multiple **``except``** blocks for different types of exceptions.\n",
        "\n",
        "```python\n",
        "try:\n",
        "    x = 1 / 0\n",
        "except ZeroDivisionError:\n",
        "    print(\"Caught a ZeroDivisionError\")\n",
        "except ArithmeticError:\n",
        "    print(\"Caught an ArithmeticError\")\n",
        "```\n",
        "\n",
        "> **``finally`` block**\n",
        "\n",
        "- **What it is**: The **``finally``** block will execute whether or not an exception is caught.\n",
        "- **``How it works``**: This is generally used for cleanup actions, such as closing files or releasing resources. If you open a file in the **``try``** block, you can make sure it gets closed by putting the close operation in the **``finally``** block.\n",
        "\n",
        "```python\n",
        "try:\n",
        "    f = open(\"file.txt\", \"r\")\n",
        "    # some file operations\n",
        "except FileNotFoundError:\n",
        "    print(\"File not found!\")\n",
        "finally:\n",
        "    f.close()\n",
        "```\n",
        "\n",
        "> **``else`` block**\n",
        "\n",
        "- **What it is**: The else **``block``** will execute if the **``try``** block doesn't raise an exception.\n",
        "- **How it works**: This is useful for code that should run only if no exceptions were raised in the **``try``** block.\n",
        "\n",
        "```python\n",
        "try:\n",
        "    x = 1 / 1\n",
        "except ZeroDivisionError:\n",
        "    print(\"Cannot divide by zero\")\n",
        "else:\n",
        "    print(\"Division successful\")\n",
        "finally:\n",
        "    print(\"This will run no matter what\")\n",
        "```\n"
      ],
      "metadata": {
        "id": "q8sP2mtOWkiP"
      }
    },
    {
      "cell_type": "markdown",
      "source": [
        "## Custom Exceptions in Python: A Detailed Look"
      ],
      "metadata": {
        "id": "5weuZOt1aamt"
      }
    },
    {
      "cell_type": "markdown",
      "source": [
        "> **What are Custom Exceptions?**\n",
        "\n",
        "In Python, exceptions are events that can modify the flow of control through a script. While Python itself provides a variety of built-in exceptions (e.g., **``ValueError``**, **``TypeError``**, **``ZeroDivisionError``**), sometimes these don't adequately represent the issues you might run into, particularly in specialized domains like MLOps. This is where custom exceptions come in handy.\n",
        "\n",
        "Custom exceptions allow you to define exception classes tailored to your specific needs. By doing this, you can raise exceptions that are more descriptive of the problem at hand, making debugging easier. They also enhance code readability, helping other developers understand the kinds of errors they should anticipate.\n",
        "\n",
        "> **When to Use Custom Exceptions?**\n",
        "\n",
        "- **Descriptive Error Handling**: When you want to provide more descriptive messages or attributes for an exception.\n",
        "- **Domain-Specific Issues**: When dealing with domain-specific problems that aren't appropriately covered by Python's built-in exceptions.\n",
        "- **Logical Grouping**: When you want to create a set of exceptions that are logically related to each other and can be caught in a single except block through a common base class.\n",
        "\n",
        "> **How to Create Custom Exceptions?**\n",
        "\n",
        "Creating a custom exception in Python is straightforward. You create a new class derived from Python’s built-in **``Exception``** class or from a derived class thereof.\n",
        "\n",
        "```python\n",
        "# Define a custom exception class\n",
        "class InvalidDataFrameError(Exception):\n",
        "    \"\"\"Raised when the DataFrame does not meet the requirements\"\"\"\n",
        "    pass\n",
        "```\n",
        "\n",
        "**Example Using Pandas**\n",
        "\n",
        "Let's create a didactic example using Pandas to understand how custom exceptions can be valuable.\n",
        "\n",
        "Suppose you have a function that takes a Pandas DataFrame as an argument. This function expects the DataFrame to have specific columns: **``Name``**, **``Age``**, and **``Gender``**. If the DataFrame doesn't have these columns, the function should raise our custom exception **``InvalidDataFrameError``**.\n",
        "\n",
        "Here is how you can do it:\n",
        "\n",
        "```python\n",
        "import pandas as pd\n",
        "\n",
        "# Define a custom exception class\n",
        "class InvalidDataFrameError(Exception):\n",
        "    \"\"\"Raised when the DataFrame does not meet the requirements\"\"\"\n",
        "    pass\n",
        "\n",
        "# Function to process DataFrame\n",
        "def process_dataframe(df):\n",
        "    required_columns = ['Name', 'Age', 'Gender']\n",
        "\n",
        "    if not all(column in df.columns for column in required_columns):\n",
        "        raise InvalidDataFrameError(f\"DataFrame missing one or more required columns: {required_columns}\")\n",
        "\n",
        "    # Perform some operations on the DataFrame\n",
        "    # ...\n",
        "\n",
        "# Create a DataFrame\n",
        "df = pd.DataFrame({\n",
        "    'Name': ['Alice', 'Bob'],\n",
        "    'Age': [29, 34]\n",
        "    # 'Gender' column is intentionally missing\n",
        "})\n",
        "\n",
        "# Use the function\n",
        "try:\n",
        "    process_dataframe(df)\n",
        "except InvalidDataFrameError as e:\n",
        "    print(e)  # Output will be \"DataFrame missing one or more required columns: ['Name', 'Age', 'Gender']\"\n",
        "```\n",
        "\n",
        "In this example, the **``try``** block will attempt to execute **``process_dataframe(df)``**. However, since the DataFrame **``df``** is missing the **``Gender``** column, our custom exception **``InvalidDataFrameError``** will be raised, and the corresponding **``except``** block will catch it and print the error message.\n",
        "\n",
        "This is a simplistic example but consider this in the context of MLOps. Data often flows through various stages—acquisition, cleaning, transformation, and so on—before it's ready for machine learning models. Custom exceptions can serve as checkpoints that validate data at different stages, making the entire pipeline more robust and easier to debug.3"
      ],
      "metadata": {
        "id": "omUhzFJTagCY"
      }
    },
    {
      "cell_type": "markdown",
      "source": [
        "# 2. The Importance of Testing in MLOps\n"
      ],
      "metadata": {
        "id": "An9FNTxCbTT2"
      }
    },
    {
      "cell_type": "markdown",
      "source": [
        "\n",
        "Testing is a critical component in the software development lifecycle, and its importance is magnified in MLOps due to the complexities and uncertainties involved in machine learning (ML) systems. MLOps, which combines ML, DevOps, and data engineering, aims to standardize and streamline the end-to-end ML lifecycle. In this setting, robust testing ensures:\n",
        "\n",
        "- **Model Accuracy**: Automated tests can validate if your model meets predefined performance metrics.\n",
        "- **Data Validity**: Tests can check if the input and output data formats are as expected.\n",
        "- **Pipeline Robustness**: Testing each component of your pipeline helps ensure that the entire system will behave as expected.\n",
        "- **Monitoring and Alerts**: Automated tests can form the basis of a monitoring system that triggers alerts for issues requiring immediate attention.\n",
        "- **Versioning and Rollbacks**: Robust tests can help ensure that model and data version changes don't introduce new issues.\n",
        "- **Regulatory and Compliance Requirements**: For ML applications that need to meet regulatory standards, rigorous testing is often mandatory.\n",
        "\n",
        "<img src=\"https://drive.google.com/uc?export=view&id=1qVGxvwroKJdt8cyjkV5T87CIyCq3WKMv\" style=\"width:25%;\">\n"
      ],
      "metadata": {
        "id": "c9YPi1R-OoIj"
      }
    },
    {
      "cell_type": "markdown",
      "source": [
        "## Introduction to Testing and Pytest"
      ],
      "metadata": {
        "id": "6BFZtQ7-O4fH"
      }
    },
    {
      "cell_type": "markdown",
      "source": [
        "> **Basic Python Function**\n",
        "\n",
        "First, let's create a simple Python function that adds two numbers. This will be the function we are going to test."
      ],
      "metadata": {
        "id": "chKMwH2gWv23"
      }
    },
    {
      "cell_type": "code",
      "source": [
        "%%file math_operations.py\n",
        "# math_operations.py\n",
        "\n",
        "def add(a, b):\n",
        "    return a + b"
      ],
      "metadata": {
        "id": "ju3mIfhoW6uH"
      },
      "execution_count": null,
      "outputs": []
    },
    {
      "cell_type": "markdown",
      "source": [
        "**Installation**: If you haven't installed [Pytest](https://docs.pytest.org/en/7.4.x/), you can do so using **``pip``**. Open your terminal and type:"
      ],
      "metadata": {
        "id": "IIBfv8PnXBIN"
      }
    },
    {
      "cell_type": "code",
      "source": [
        "!pip install pytest pytest-sugar"
      ],
      "metadata": {
        "id": "t2ABN0SsXODE"
      },
      "execution_count": null,
      "outputs": []
    },
    {
      "cell_type": "markdown",
      "source": [
        "**Write the Test Case**: Create a new file called **``test_math_operations``**.py. We prefix the file name with **``test_``** because ``Pytest`` identifies test files this way. Inside this file, import the function you want to test and write the test function:"
      ],
      "metadata": {
        "id": "A27lP1H2XQA5"
      }
    },
    {
      "cell_type": "code",
      "source": [
        "%%file test_math_operations.py\n",
        "# test_math_operations.py\n",
        "\n",
        "from math_operations import add\n",
        "\n",
        "def test_add():\n",
        "    result = add(3, 5)\n",
        "    assert result == 8\n"
      ],
      "metadata": {
        "id": "G3kpjhStYCVl"
      },
      "execution_count": null,
      "outputs": []
    },
    {
      "cell_type": "markdown",
      "source": [
        "**Run the Test**: Open your terminal, navigate to the directory containing your test file, and run:"
      ],
      "metadata": {
        "id": "jkASNKAdYM6p"
      }
    },
    {
      "cell_type": "code",
      "source": [
        "!pytest test_math_operations.py"
      ],
      "metadata": {
        "id": "ccYboLcoYTwD"
      },
      "execution_count": null,
      "outputs": []
    },
    {
      "cell_type": "markdown",
      "source": [
        "## Pytest Fixtures"
      ],
      "metadata": {
        "id": "grFrqcaMYYjo"
      }
    },
    {
      "cell_type": "markdown",
      "source": [
        "The focus of this section is to start your understanding of [Pytest fixtures](https://docs.pytest.org/en/7.4.x/reference/reference.html#fixtures), a powerful feature for setting up preconditions for your test cases. This is particularly important in MLOps, where you may need to set up database connections, initialize variables, or load ML models before running tests.\n",
        "\n",
        "- **What Are Fixtures?**: In Pytest, a fixture is a setup method that allows you to set up things like objects or configurations that will be used in your test functions.\n",
        "- **Why Use Fixtures?**: They help in setting up and tearing down complex test environments, allowing you to write tests that are both simpler and more robust.\n",
        "\n",
        "> **Setup and Teardown:** Using ``pytest.fixture``\n",
        "\n",
        "First, let's assume you have a machine learning function that normalizes a list of numbers. This function will be part of a larger data preprocessing pipeline.\n",
        "\n",
        "Here's the code for the normalization function:"
      ],
      "metadata": {
        "id": "X-Qi4JkzZju1"
      }
    },
    {
      "cell_type": "code",
      "source": [
        "%%file ml_operations.py\n",
        "# ml_operations.py\n",
        "\n",
        "def normalize(numbers):\n",
        "    max_num = max(numbers)\n",
        "    min_num = min(numbers)\n",
        "    return [(x - min_num) / (max_num - min_num) for x in numbers]"
      ],
      "metadata": {
        "id": "BWG9e3-AaDVW"
      },
      "execution_count": null,
      "outputs": []
    },
    {
      "cell_type": "markdown",
      "source": [
        "Now, let's create a fixture that generates some sample data to be used in the tests. Fixtures can handle setup logic and are invoked using the **``pytest.fixture``** decorator."
      ],
      "metadata": {
        "id": "pbudjgbzaoPR"
      }
    },
    {
      "cell_type": "code",
      "source": [
        "%%file test_ml_operations.py\n",
        "# test_ml_operations.py\n",
        "\n",
        "import pytest\n",
        "from ml_operations import normalize\n",
        "\n",
        "@pytest.fixture\n",
        "def sample_data():\n",
        "    return [5, 10, 15, 20, 25]\n",
        "\n",
        "def test_normalize(sample_data):\n",
        "    result = normalize(sample_data)\n",
        "    assert result == [0.0, 0.25, 0.5, 0.75, 1.0]\n"
      ],
      "metadata": {
        "id": "Nk0uD6F8azJs"
      },
      "execution_count": null,
      "outputs": []
    },
    {
      "cell_type": "markdown",
      "source": [
        "In this example, **``sample_data``** is a fixture that returns a list of numbers. The **``test_normalize``** function takes this fixture as an argument, effectively using the data setup by the fixture."
      ],
      "metadata": {
        "id": "LXVGde7Da4nm"
      }
    },
    {
      "cell_type": "code",
      "source": [
        "!pytest test_ml_operations.py"
      ],
      "metadata": {
        "id": "b1U2Llg_bDpk"
      },
      "execution_count": null,
      "outputs": []
    },
    {
      "cell_type": "markdown",
      "source": [
        "> **Share a Fixture:** Using a Fixture Across Multiple Test Cases\n",
        "\n",
        "You can use a fixture across multiple test functions by defining it in a **``conftest.py``** file. Pytest will automatically discover this file and its fixtures.\n",
        "\n",
        "Create a new file called **``conftest.py``** in the same directory as your test file and move the **``sample_data``** fixture there:"
      ],
      "metadata": {
        "id": "Eo0Bcg81bV7G"
      }
    },
    {
      "cell_type": "code",
      "source": [
        "%%file conftest.py\n",
        "# conftest.py\n",
        "\n",
        "import pytest\n",
        "\n",
        "@pytest.fixture\n",
        "def sample_data():\n",
        "    return [5, 10, 15, 20, 25]"
      ],
      "metadata": {
        "id": "5vhL0eNyb8Sm"
      },
      "execution_count": null,
      "outputs": []
    },
    {
      "cell_type": "markdown",
      "source": [
        "Now you can use **``sample_data``** in multiple test files without redefining it:\n"
      ],
      "metadata": {
        "id": "kSB_Lb9zcLoy"
      }
    },
    {
      "cell_type": "code",
      "source": [
        "%%file test_ml_operations2.py\n",
        "# test_ml_operations2.py\n",
        "\n",
        "from ml_operations import normalize\n",
        "\n",
        "def test_normalize_again(sample_data):\n",
        "    result = normalize(sample_data)\n",
        "    assert result == [0.0, 0.25, 0.5, 0.75, 1.0]"
      ],
      "metadata": {
        "id": "zYtWLR_GcQxN"
      },
      "execution_count": null,
      "outputs": []
    },
    {
      "cell_type": "code",
      "source": [
        "!pytest test_ml_operations2.py"
      ],
      "metadata": {
        "id": "Xp0xpVIicVvH"
      },
      "execution_count": null,
      "outputs": []
    },
    {
      "cell_type": "markdown",
      "source": [
        "# Logging in the Context of MLOps: A Comprehensive Guide"
      ],
      "metadata": {
        "id": "Jr5BbJQVcYSH"
      }
    },
    {
      "cell_type": "markdown",
      "source": [
        "The goal of this section is to familiarize you with the concept of logging and its importance in software development, with a particular focus on MLOps (Machine Learning Operations). By the end of this section, you should understand what logging is, why it's essential, and how to implement basic logging in Python.\n",
        "\n",
        "\n",
        "- **What is Logging?**: Logging is the practice of recording messages to provide insights into a running application. These logs can be instrumental for debugging and monitoring the system's state and behavior.\n",
        "\n",
        "- **Importance in MLOps**: In MLOps, logging serves critical purposes such as tracing data lineage, monitoring model performance, and aiding in debugging and auditing. A lack of proper logging can severely impact the effectiveness and maintainability of MLOps pipelines.\n",
        "\n",
        "- **Types of Logs**: Introduce the different types of logs like application logs, system logs, and audit logs. In MLOps, application logs can record the behavior of your machine learning models, while audit logs can keep track of who did what.\n"
      ],
      "metadata": {
        "id": "iEr__1Wvg-4e"
      }
    },
    {
      "cell_type": "code",
      "source": [],
      "metadata": {
        "id": "HyHenxi0hW6y"
      },
      "execution_count": null,
      "outputs": []
    }
  ],
  "metadata": {
    "colab": {
      "provenance": [],
      "toc_visible": true
    },
    "kernelspec": {
      "display_name": "Python 3",
      "name": "python3"
    },
    "language_info": {
      "name": "python"
    }
  },
  "nbformat": 4,
  "nbformat_minor": 0
}