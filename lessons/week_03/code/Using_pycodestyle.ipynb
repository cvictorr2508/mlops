{
  "nbformat": 4,
  "nbformat_minor": 0,
  "metadata": {
    "colab": {
      "name": "Using_pycodestyle.ipynb",
      "provenance": []
    },
    "kernelspec": {
      "name": "python3",
      "display_name": "Python 3"
    },
    "language_info": {
      "name": "python"
    }
  },
  "cells": [
    {
      "cell_type": "code",
      "metadata": {
        "id": "oMpnr6d88prI"
      },
      "source": [
        "!pip install pycodestyle pycodestyle_magic\n",
        "!pip install flake8"
      ],
      "execution_count": null,
      "outputs": []
    },
    {
      "cell_type": "code",
      "metadata": {
        "id": "PMTnnhHI8yZd"
      },
      "source": [
        "%load_ext pycodestyle_magic"
      ],
      "execution_count": null,
      "outputs": []
    },
    {
      "cell_type": "code",
      "metadata": {
        "id": "mcrG4ODOVyWa"
      },
      "source": [
        "#pycodestyle\n",
        "import time\n",
        "import pandas as pd\n",
        "import numpy as np"
      ],
      "execution_count": null,
      "outputs": []
    },
    {
      "cell_type": "code",
      "metadata": {
        "id": "f9-CbbvqVyWb"
      },
      "source": [
        "#%%pycodestyle\n",
        "def find_recent_coding_books(recent_books_path, coding_books_path):\n",
        "    with open(recent_books_path) as f:\n",
        "        recent_books = f.read().split('\\n') \n",
        "        \n",
        "    with open(coding_books_path) as f:\n",
        "        coding_books = f.read().split('\\n')\n",
        "\n",
        "    recent_coding_books = set(recent_books).intersection(coding_books)\n",
        "    return recent_coding_books"
      ],
      "execution_count": null,
      "outputs": []
    },
    {
      "cell_type": "code",
      "metadata": {
        "id": "enPSEnW07qF0",
        "colab": {
          "base_uri": "https://localhost:8080/"
        },
        "outputId": "ee3b51a6-084c-45e5-c771-9c5740d52449"
      },
      "source": [
        "#%%pycodestyle\n",
        "recent_coding_books = find_recent_coding_books('books_published_last_two_years.txt','all_coding_books.txt')\n",
        "print(recent_coding_books)"
      ],
      "execution_count": null,
      "outputs": [
        {
          "output_type": "stream",
          "name": "stdout",
          "text": [
            "{'8255889', '7531095', '9443002', '6595167', '9348635', '7406586', '8873515', '2009541', '7170269', '2239694', '6977874', '5890905', '4069963', '7663370', '6637024', '6975356', '8196889', '2439487', '7144292', '1219701', '2706358', '1901264', '5951873', '2644909', '6522620', '3066256', '1258335', '3290103', '2986045', '8558628', '2645238', '5406308', '1962694', '6163266', '9193737', '4137576', '6005218', '1715546', '6495493', '3517640', '2038925', '7852176', '1713507', '4959393', '1694425', '7231742', '4717544', '5205726', '8897482', '7286871', '8621688', '1264806', '6964516', '8502866', '7148530', '6889040', '5764540', '7689591', '6445882', '3036263', '9180837', '4580997', '7668560', '9255617', '2442952', '3172199', '4993512', '3264002', '2989078', '3349989', '7401186', '4976621', '2462622', '5766722', '2920394', '7804836', '9624309', '7201791', '8604850', '4623179', '5353921', '7356628', '7955543', '4281481', '8879982', '6599509', '7308127', '7804101', '9497646', '8819824', '1473766', '7286175', '8919160', '4245126', '3783712', '1900178'}\n"
          ]
        }
      ]
    },
    {
      "cell_type": "code",
      "metadata": {
        "id": "2fsIw9OzeoIG"
      },
      "source": [
        ""
      ],
      "execution_count": null,
      "outputs": []
    }
  ]
}