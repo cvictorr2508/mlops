{
 "cells": [
  {
   "cell_type": "markdown",
   "id": "da45d20f",
   "metadata": {},
   "source": [
    "# Import Weights & Biases"
   ]
  },
  {
   "cell_type": "code",
   "execution_count": 17,
   "id": "03442ed7",
   "metadata": {},
   "outputs": [],
   "source": [
    "import wandb"
   ]
  },
  {
   "cell_type": "markdown",
   "id": "644e42df",
   "metadata": {},
   "source": [
    "# Create an artifact\n",
    "(pretend it is the output of a component)"
   ]
  },
  {
   "cell_type": "code",
   "execution_count": 18,
   "id": "bc7adc75",
   "metadata": {},
   "outputs": [],
   "source": [
    "with open(\"my_artifact.txt\", \"w+\") as fp:\n",
    "    fp.write(\"This is an example of an artifact\")"
   ]
  },
  {
   "cell_type": "markdown",
   "id": "1d2cdada",
   "metadata": {},
   "source": [
    "# Upload to W&B"
   ]
  },
  {
   "cell_type": "code",
   "execution_count": 19,
   "id": "0626cd3a",
   "metadata": {},
   "outputs": [
    {
     "data": {
      "text/html": [
       "\n",
       "                    Syncing run <strong><a href=\"https://wandb.ai/ivanovitchm/my_first_artifact/runs/1yp26kk0\" target=\"_blank\">usual-darkness-1</a></strong> to <a href=\"https://wandb.ai/ivanovitchm/my_first_artifact\" target=\"_blank\">Weights & Biases</a> (<a href=\"https://docs.wandb.com/integrations/jupyter.html\" target=\"_blank\">docs</a>).<br/>\n",
       "\n",
       "                "
      ],
      "text/plain": [
       "<IPython.core.display.HTML object>"
      ]
     },
     "metadata": {},
     "output_type": "display_data"
    }
   ],
   "source": [
    "run = wandb.init(project=\"my_first_artifact\", \n",
    "                 group=\"experiment_1\")"
   ]
  },
  {
   "cell_type": "code",
   "execution_count": 20,
   "id": "2d5f7a44",
   "metadata": {},
   "outputs": [],
   "source": [
    "artifact = wandb.Artifact(name=\"My_artifact\", \n",
    "                          type=\"data\", \n",
    "                          description=\"This is an example of an artifact\",\n",
    "                          metadata={\"key_1\": \"value_1\"})"
   ]
  },
  {
   "cell_type": "code",
   "execution_count": 21,
   "id": "69216a8f",
   "metadata": {},
   "outputs": [
    {
     "data": {
      "text/plain": [
       "<ManifestEntry digest: bStOq42zZ7Ka3e5ArNjTIg==>"
      ]
     },
     "execution_count": 21,
     "metadata": {},
     "output_type": "execute_result"
    }
   ],
   "source": [
    "artifact.add_file(\"my_artifact.txt\")"
   ]
  },
  {
   "cell_type": "code",
   "execution_count": 22,
   "id": "e9086572",
   "metadata": {},
   "outputs": [
    {
     "data": {
      "text/plain": [
       "<wandb.sdk.wandb_artifacts.Artifact at 0x7f9a38165e80>"
      ]
     },
     "execution_count": 22,
     "metadata": {},
     "output_type": "execute_result"
    }
   ],
   "source": [
    "run.log_artifact(artifact)"
   ]
  },
  {
   "cell_type": "code",
   "execution_count": 23,
   "id": "c26afcd1",
   "metadata": {},
   "outputs": [
    {
     "data": {
      "text/html": [
       "<br/>Waiting for W&B process to finish, PID 17455... <strong style=\"color:green\">(success).</strong>"
      ],
      "text/plain": [
       "<IPython.core.display.HTML object>"
      ]
     },
     "metadata": {},
     "output_type": "display_data"
    },
    {
     "data": {
      "text/html": [
       "<style>\n",
       "    table.wandb td:nth-child(1) { padding: 0 10px; text-align: right }\n",
       "    .wandb-row { display: flex; flex-direction: row; flex-wrap: wrap; width: 100% }\n",
       "    .wandb-col { display: flex; flex-direction: column; flex-basis: 100%; flex: 1; padding: 10px; }\n",
       "    </style>\n",
       "<div class=\"wandb-row\"><div class=\"wandb-col\">\n",
       "</div><div class=\"wandb-col\">\n",
       "</div></div>\n",
       "Synced 5 W&B file(s), 0 media file(s), 1 artifact file(s) and 0 other file(s)\n",
       "<br/>Synced <strong style=\"color:#cdcd00\">usual-darkness-1</strong>: <a href=\"https://wandb.ai/ivanovitchm/my_first_artifact/runs/1yp26kk0\" target=\"_blank\">https://wandb.ai/ivanovitchm/my_first_artifact/runs/1yp26kk0</a><br/>\n",
       "Find logs at: <code>./wandb/run-20211118_162219-1yp26kk0/logs</code><br/>\n"
      ],
      "text/plain": [
       "<IPython.core.display.HTML object>"
      ]
     },
     "metadata": {},
     "output_type": "display_data"
    }
   ],
   "source": [
    "run.finish()"
   ]
  },
  {
   "cell_type": "markdown",
   "id": "d83f8f23",
   "metadata": {},
   "source": [
    "# Generate a new version by changing the artifact"
   ]
  },
  {
   "cell_type": "code",
   "execution_count": 24,
   "id": "6f7c14ca",
   "metadata": {},
   "outputs": [
    {
     "data": {
      "text/html": [
       "\n",
       "                    Syncing run <strong><a href=\"https://wandb.ai/ivanovitchm/my_first_artifact/runs/zkyu1ei2\" target=\"_blank\">pious-sun-2</a></strong> to <a href=\"https://wandb.ai/ivanovitchm/my_first_artifact\" target=\"_blank\">Weights & Biases</a> (<a href=\"https://docs.wandb.com/integrations/jupyter.html\" target=\"_blank\">docs</a>).<br/>\n",
       "\n",
       "                "
      ],
      "text/plain": [
       "<IPython.core.display.HTML object>"
      ]
     },
     "metadata": {},
     "output_type": "display_data"
    },
    {
     "data": {
      "text/plain": [
       "<wandb.sdk.wandb_artifacts.Artifact at 0x7f9a3813e820>"
      ]
     },
     "execution_count": 24,
     "metadata": {},
     "output_type": "execute_result"
    }
   ],
   "source": [
    "with open(\"my_artifact.txt\", \"w+\") as fp:\n",
    "    fp.write(\"This is an example of an artifact changed\")\n",
    "\n",
    "run = wandb.init(project=\"my_first_artifact\", group=\"experiment_1\")\n",
    "\n",
    "artifact = wandb.Artifact(\n",
    "    name=\"My_artifact\", \n",
    "    type=\"data\", \n",
    "    description=\"This is an example of an artifact\",\n",
    "    metadata={\n",
    "        \"key_1\": \"value_1\"\n",
    "    }\n",
    ")\n",
    "artifact.add_file(\"my_artifact.txt\")\n",
    "run.log_artifact(artifact)\n"
   ]
  },
  {
   "cell_type": "code",
   "execution_count": 25,
   "id": "a6bc3f30",
   "metadata": {},
   "outputs": [
    {
     "data": {
      "text/html": [
       "<br/>Waiting for W&B process to finish, PID 17490... <strong style=\"color:green\">(success).</strong>"
      ],
      "text/plain": [
       "<IPython.core.display.HTML object>"
      ]
     },
     "metadata": {},
     "output_type": "display_data"
    },
    {
     "data": {
      "text/html": [
       "<style>\n",
       "    table.wandb td:nth-child(1) { padding: 0 10px; text-align: right }\n",
       "    .wandb-row { display: flex; flex-direction: row; flex-wrap: wrap; width: 100% }\n",
       "    .wandb-col { display: flex; flex-direction: column; flex-basis: 100%; flex: 1; padding: 10px; }\n",
       "    </style>\n",
       "<div class=\"wandb-row\"><div class=\"wandb-col\">\n",
       "</div><div class=\"wandb-col\">\n",
       "</div></div>\n",
       "Synced 5 W&B file(s), 0 media file(s), 1 artifact file(s) and 0 other file(s)\n",
       "<br/>Synced <strong style=\"color:#cdcd00\">pious-sun-2</strong>: <a href=\"https://wandb.ai/ivanovitchm/my_first_artifact/runs/zkyu1ei2\" target=\"_blank\">https://wandb.ai/ivanovitchm/my_first_artifact/runs/zkyu1ei2</a><br/>\n",
       "Find logs at: <code>./wandb/run-20211118_162728-zkyu1ei2/logs</code><br/>\n"
      ],
      "text/plain": [
       "<IPython.core.display.HTML object>"
      ]
     },
     "metadata": {},
     "output_type": "display_data"
    }
   ],
   "source": [
    "run.finish()"
   ]
  },
  {
   "cell_type": "markdown",
   "id": "2eb909bd",
   "metadata": {},
   "source": [
    "# Re-upload the same artifact\n",
    "(the version will not change)"
   ]
  },
  {
   "cell_type": "code",
   "execution_count": 26,
   "id": "3664dde2",
   "metadata": {},
   "outputs": [
    {
     "data": {
      "text/html": [
       "\n",
       "                    Syncing run <strong><a href=\"https://wandb.ai/ivanovitchm/my_first_artifact/runs/1d209w8n\" target=\"_blank\">stilted-wildflower-3</a></strong> to <a href=\"https://wandb.ai/ivanovitchm/my_first_artifact\" target=\"_blank\">Weights & Biases</a> (<a href=\"https://docs.wandb.com/integrations/jupyter.html\" target=\"_blank\">docs</a>).<br/>\n",
       "\n",
       "                "
      ],
      "text/plain": [
       "<IPython.core.display.HTML object>"
      ]
     },
     "metadata": {},
     "output_type": "display_data"
    },
    {
     "data": {
      "text/html": [
       "<br/>Waiting for W&B process to finish, PID 17526... <strong style=\"color:green\">(success).</strong>"
      ],
      "text/plain": [
       "<IPython.core.display.HTML object>"
      ]
     },
     "metadata": {},
     "output_type": "display_data"
    },
    {
     "data": {
      "text/html": [
       "<style>\n",
       "    table.wandb td:nth-child(1) { padding: 0 10px; text-align: right }\n",
       "    .wandb-row { display: flex; flex-direction: row; flex-wrap: wrap; width: 100% }\n",
       "    .wandb-col { display: flex; flex-direction: column; flex-basis: 100%; flex: 1; padding: 10px; }\n",
       "    </style>\n",
       "<div class=\"wandb-row\"><div class=\"wandb-col\">\n",
       "</div><div class=\"wandb-col\">\n",
       "</div></div>\n",
       "Synced 5 W&B file(s), 0 media file(s), 0 artifact file(s) and 0 other file(s)\n",
       "<br/>Synced <strong style=\"color:#cdcd00\">stilted-wildflower-3</strong>: <a href=\"https://wandb.ai/ivanovitchm/my_first_artifact/runs/1d209w8n\" target=\"_blank\">https://wandb.ai/ivanovitchm/my_first_artifact/runs/1d209w8n</a><br/>\n",
       "Find logs at: <code>./wandb/run-20211118_163015-1d209w8n/logs</code><br/>\n"
      ],
      "text/plain": [
       "<IPython.core.display.HTML object>"
      ]
     },
     "metadata": {},
     "output_type": "display_data"
    }
   ],
   "source": [
    "with open(\"my_artifact.txt\", \"w+\") as fp:\n",
    "    fp.write(\"This is an example of an artifact changed\")\n",
    "\n",
    "run = wandb.init(project=\"my_first_artifact\", group=\"experiment_1\")\n",
    "\n",
    "artifact = wandb.Artifact(\n",
    "    name=\"My_artifact\", \n",
    "    type=\"data\", \n",
    "    description=\"This is an example of an artifact\",\n",
    "    metadata={\n",
    "        \"key_1\": \"value_1\"\n",
    "    }\n",
    ")\n",
    "artifact.add_file(\"my_artifact.txt\")\n",
    "run.log_artifact(artifact)\n",
    "run.finish()"
   ]
  },
  {
   "cell_type": "markdown",
   "id": "e3890ff3",
   "metadata": {},
   "source": [
    "# Using runs with context managers\n",
    "(show that the version does not change even across multiple runs if the artifact does not change)"
   ]
  },
  {
   "cell_type": "code",
   "execution_count": 27,
   "id": "2c7bdad3",
   "metadata": {},
   "outputs": [
    {
     "data": {
      "text/html": [
       "\n",
       "                    Syncing run <strong><a href=\"https://wandb.ai/ivanovitchm/multiple_runs/runs/1zk2uszs\" target=\"_blank\">dashing-lake-1</a></strong> to <a href=\"https://wandb.ai/ivanovitchm/multiple_runs\" target=\"_blank\">Weights & Biases</a> (<a href=\"https://docs.wandb.com/integrations/jupyter.html\" target=\"_blank\">docs</a>).<br/>\n",
       "\n",
       "                "
      ],
      "text/plain": [
       "<IPython.core.display.HTML object>"
      ]
     },
     "metadata": {},
     "output_type": "display_data"
    },
    {
     "data": {
      "text/html": [
       "<br/>Waiting for W&B process to finish, PID 17593... <strong style=\"color:green\">(success).</strong>"
      ],
      "text/plain": [
       "<IPython.core.display.HTML object>"
      ]
     },
     "metadata": {},
     "output_type": "display_data"
    },
    {
     "data": {
      "text/html": [
       "<style>\n",
       "    table.wandb td:nth-child(1) { padding: 0 10px; text-align: right }\n",
       "    .wandb-row { display: flex; flex-direction: row; flex-wrap: wrap; width: 100% }\n",
       "    .wandb-col { display: flex; flex-direction: column; flex-basis: 100%; flex: 1; padding: 10px; }\n",
       "    </style>\n",
       "<div class=\"wandb-row\"><div class=\"wandb-col\">\n",
       "</div><div class=\"wandb-col\">\n",
       "</div></div>\n",
       "Synced 5 W&B file(s), 0 media file(s), 1 artifact file(s) and 0 other file(s)\n",
       "<br/>Synced <strong style=\"color:#cdcd00\">dashing-lake-1</strong>: <a href=\"https://wandb.ai/ivanovitchm/multiple_runs/runs/1zk2uszs\" target=\"_blank\">https://wandb.ai/ivanovitchm/multiple_runs/runs/1zk2uszs</a><br/>\n",
       "Find logs at: <code>./wandb/run-20211118_163349-1zk2uszs/logs</code><br/>\n"
      ],
      "text/plain": [
       "<IPython.core.display.HTML object>"
      ]
     },
     "metadata": {},
     "output_type": "display_data"
    },
    {
     "data": {
      "text/html": [
       "\n",
       "                    Syncing run <strong><a href=\"https://wandb.ai/ivanovitchm/multiple_runs/runs/2npkfswd\" target=\"_blank\">pious-cherry-2</a></strong> to <a href=\"https://wandb.ai/ivanovitchm/multiple_runs\" target=\"_blank\">Weights & Biases</a> (<a href=\"https://docs.wandb.com/integrations/jupyter.html\" target=\"_blank\">docs</a>).<br/>\n",
       "\n",
       "                "
      ],
      "text/plain": [
       "<IPython.core.display.HTML object>"
      ]
     },
     "metadata": {},
     "output_type": "display_data"
    },
    {
     "data": {
      "text/html": [
       "<br/>Waiting for W&B process to finish, PID 17638... <strong style=\"color:green\">(success).</strong>"
      ],
      "text/plain": [
       "<IPython.core.display.HTML object>"
      ]
     },
     "metadata": {},
     "output_type": "display_data"
    },
    {
     "data": {
      "text/html": [
       "<style>\n",
       "    table.wandb td:nth-child(1) { padding: 0 10px; text-align: right }\n",
       "    .wandb-row { display: flex; flex-direction: row; flex-wrap: wrap; width: 100% }\n",
       "    .wandb-col { display: flex; flex-direction: column; flex-basis: 100%; flex: 1; padding: 10px; }\n",
       "    </style>\n",
       "<div class=\"wandb-row\"><div class=\"wandb-col\">\n",
       "</div><div class=\"wandb-col\">\n",
       "</div></div>\n",
       "Synced 5 W&B file(s), 0 media file(s), 0 artifact file(s) and 0 other file(s)\n",
       "<br/>Synced <strong style=\"color:#cdcd00\">pious-cherry-2</strong>: <a href=\"https://wandb.ai/ivanovitchm/multiple_runs/runs/2npkfswd\" target=\"_blank\">https://wandb.ai/ivanovitchm/multiple_runs/runs/2npkfswd</a><br/>\n",
       "Find logs at: <code>./wandb/run-20211118_163416-2npkfswd/logs</code><br/>\n"
      ],
      "text/plain": [
       "<IPython.core.display.HTML object>"
      ]
     },
     "metadata": {},
     "output_type": "display_data"
    }
   ],
   "source": [
    "with wandb.init(project=\"multiple_runs\") as run:\n",
    "    \n",
    "    artifact = wandb.Artifact(\n",
    "    name=\"My_artifact\", \n",
    "    type=\"data\", \n",
    "    description=\"This is an example of an artifact\",\n",
    "    metadata={\n",
    "        \"key_1\": \"value_1\"\n",
    "    }\n",
    "    )\n",
    "    artifact.add_file(\"my_artifact.txt\")\n",
    "    run.log_artifact(artifact)\n",
    "\n",
    "with wandb.init(project=\"multiple_runs\") as run:\n",
    "    \n",
    "    artifact = wandb.Artifact(\n",
    "    name=\"My_artifact\", \n",
    "    type=\"data\", \n",
    "    description=\"This is an example of an artifact\",\n",
    "    metadata={\n",
    "        \"key_1\": \"value_1\"\n",
    "    }\n",
    "    )\n",
    "    artifact.add_file(\"my_artifact.txt\")\n",
    "    run.log_artifact(artifact)"
   ]
  },
  {
   "cell_type": "code",
   "execution_count": null,
   "id": "715ac8e3-c56b-4b9b-9629-f3202144acc1",
   "metadata": {},
   "outputs": [],
   "source": []
  }
 ],
 "metadata": {
  "kernelspec": {
   "display_name": "Python 3",
   "language": "python",
   "name": "python3"
  },
  "language_info": {
   "codemirror_mode": {
    "name": "ipython",
    "version": 3
   },
   "file_extension": ".py",
   "mimetype": "text/x-python",
   "name": "python",
   "nbconvert_exporter": "python",
   "pygments_lexer": "ipython3",
   "version": "3.8.12"
  }
 },
 "nbformat": 4,
 "nbformat_minor": 5
}
