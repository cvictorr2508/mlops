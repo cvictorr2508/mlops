{
  "nbformat": 4,
  "nbformat_minor": 0,
  "metadata": {
    "colab": {
      "name": "README.ipynb",
      "provenance": []
    },
    "kernelspec": {
      "name": "python3",
      "display_name": "Python 3"
    },
    "language_info": {
      "name": "python"
    }
  },
  "cells": [
    {
      "cell_type": "markdown",
      "metadata": {
        "id": "nG3OnWx2KqSt"
      },
      "source": [
        "# Tools & Environment"
      ]
    },
    {
      "cell_type": "markdown",
      "metadata": {
        "id": "tvyfkMb3NiM1"
      },
      "source": [
        "The class will assume that you have a **GitHub account**. In principle you could also use GitLab or BitBucket, or any git-based remote repository, however the video will assume you are using GitHub."
      ]
    },
    {
      "cell_type": "markdown",
      "metadata": {
        "id": "SjAXP9bMK0gk"
      },
      "source": [
        "## Setting up Conda"
      ]
    },
    {
      "cell_type": "markdown",
      "metadata": {
        "id": "FcaV8WmlK-gW"
      },
      "source": [
        "- [<font color=\"red\"> Suggestion </font>]Install Anaconda [[Windows, Linux, MacOS]](https://www.anaconda.com/products/individual)\n",
        "\n",
        "- Install Conda on [Linux](https://docs.conda.io/en/latest/miniconda.html)\n",
        ">`wget https://repo.anaconda.com/miniconda/Miniconda3-latest-Linux-x86_64.sh`\n",
        "    \n",
        "    >`chmod u+x Miniconda3-latest-Linux-x86_64.sh`\n",
        "    \n",
        "    >`./Miniconda3-latest-Linux-x86_64.sh -b`\n",
        "- Install Conda on [Mac](https://docs.conda.io/en/latest/miniconda.html)\n",
        "    >`curl -OJ https://repo.anaconda.com/miniconda/Miniconda3-latest-MacOSX-x86_64.sh`\n",
        "\n",
        "    > `chmod u+x Miniconda3-latest-MacOSX-x86_64.sh`\n",
        "\n",
        "    > `./Miniconda3-latest-MacOSX-x86_64.sh -b`\n",
        "- Note for Windows users\n",
        "    - If you are using Windows you need to install the WSL system first (Windows Subsystem for Linux). Please follow the WSL install instructions [here](https://docs.microsoft.com/en-us/windows/wsl/install-win10)."
      ]
    },
    {
      "cell_type": "markdown",
      "metadata": {
        "id": "nLV425peLLUH"
      },
      "source": [
        "### Main commands"
      ]
    },
    {
      "cell_type": "markdown",
      "metadata": {
        "id": "IjkBRa2aOB-N"
      },
      "source": [
        "A complete documentation can be find [here](https://docs.conda.io/projects/conda/en/latest/user-guide/tasks/manage-environments.html).\n",
        "\n",
        "- `conda --verson`\n",
        "- `conda list`\n",
        "- `conda env list`\n",
        "- `conda activate envname`\n",
        "- `conda deactivate envname`\n",
        "- `conda create --name mlops python=3.8 mlflow jupyter matplotlib requests -c conda-forge`\n",
        "- `conda remove --name myenv --all`\n",
        "- `conda env create -f environment.yml`\n",
        "- `source ~/.bashrc`\n",
        "- `source ~/.zshrc`\n",
        "- `pip instal wandb`\n",
        "\n",
        "\n"
      ]
    },
    {
      "cell_type": "markdown",
      "metadata": {
        "id": "gjfc-kbVRVdM"
      },
      "source": [
        "## Wandb.ai"
      ]
    },
    {
      "cell_type": "markdown",
      "metadata": {
        "id": "x26yD23eRUrI"
      },
      "source": [
        "\n",
        "- `wandb login`\n",
        "\n",
        "```bash\n",
        "source activate mlops\n",
        "echo \"wandb test\" > wandb_test\n",
        "wandb artifact put -n testing/artifact_test wandb_test\n",
        "```"
      ]
    }
  ]
}