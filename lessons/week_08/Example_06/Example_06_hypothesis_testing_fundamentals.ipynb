{
  "nbformat": 4,
  "nbformat_minor": 0,
  "metadata": {
    "colab": {
      "name": "Example_06_hypothesis_testing_fundamentals.ipynb",
      "provenance": []
    },
    "kernelspec": {
      "name": "python3",
      "display_name": "Python 3"
    },
    "language_info": {
      "name": "python"
    }
  },
  "cells": [
    {
      "cell_type": "markdown",
      "metadata": {
        "id": "oA91606BykdT"
      },
      "source": [
        "# 1.0 Hypothesis Testing: Fundamentals"
      ]
    },
    {
      "cell_type": "markdown",
      "metadata": {
        "id": "GP_JqwSOyrTl"
      },
      "source": [
        "## 1.1 Significance Testing"
      ]
    },
    {
      "cell_type": "markdown",
      "metadata": {
        "id": "0vTeFDYFyvJN"
      },
      "source": [
        "### 1.1.1 Hypothesis Testing"
      ]
    },
    {
      "cell_type": "markdown",
      "metadata": {
        "id": "6W_A6YsSkkT3"
      },
      "source": [
        "In this section, we'll learn about **hypothesis testing** and **statistical significance**. A hypothesis is a pattern or rule about a process in the world that can be tested. **We use hypothesis testing to determine if a change we made had a meaningful impact or not**.\n",
        "\n",
        "- You can use hypothesis testing to help you determine:\n",
        "  - if a new banner ad on a website caused a meaningful drop in the user engagement,\n",
        "  - if raising the price of a product caused a meaningful drop in sales,\n",
        "  - if a new weight loss pill helped people lose more weight.\n",
        "\n",
        "Observing a decrease in user engagement or sales after instituting a change doesn't automatically imply that the change was the cause. **Hypothesis testing allows us to calculate the probability that random chance was actually responsible for the difference in outcome**. Every process has some inherent amount of randomness that we can't measure and understanding the role of chance helps us reach a conclusion that's more likely to be correct.\n",
        "\n",
        "We first set up a **null hypothesis** that describes the status quo. We then state an **alternative hypothesis**, which we used to compare with the **null hypothesis** to decide which describes the data better. In the end, we either need to:\n",
        "\n",
        "- reject the null hypothesis and accept the alternative hypothesis or\n",
        "- accept the null hypothesis and reject the alternative hypothesis.\n",
        "\n",
        "We can frame each of the studies above as these rival pairs of hypotheses:\n",
        "\n",
        "- if a new banner ad on a website caused a meaningful drop in the user engagement:\n",
        "  - **null hypothesis**: users who were exposed to the banner ad spent the same amount of time on the website than those who weren't.\n",
        "  - **alternative hypothesis**: users who were exposed to the banner ad spent less time on the website than those who weren't.\n",
        "- if raising the price of a product caused a meaningful drop in sales:\n",
        "  - **null hypothesis**: the number of purchases of the product was the same at the lower price than it was at the higher price.\n",
        "  - **alternative hypothesis**: the number of purchases of the product was lower at the higher price than it was at the lower price.\n",
        "- if a new weight loss pill helped people lose more weight:\n",
        "  - **null hypothesis**: patients who went on the weight loss pill lost no more weight than those who didn't.\n",
        "  - **alternative hypothesis**: patients who went on the weight loss pill lost more weight than those who didn't.\n",
        "\n",
        "In the rest of *Section Significance Testing*, we'll focus on the third scenario and use data to determine if a weight loss pill helped people lose weight.\n",
        "\n"
      ]
    },
    {
      "cell_type": "markdown",
      "metadata": {
        "id": "HTcB4wWVqggL"
      },
      "source": [
        "### 1.1.2 Research design"
      ]
    },
    {
      "cell_type": "markdown",
      "metadata": {
        "id": "HKWHonSOxVxQ"
      },
      "source": [
        "To help us determine if the weight loss pill was effective, we conducted a study where we invited 100 volunteers and split them into 2 even groups randomly:\n",
        "\n",
        "  - Group A was given a placebo, or fake, pill and instructed to consume it on a daily basis.\n",
        "  - Group B was given the actual weight loss pill and instructed to consume it on a daily basis.\n",
        "\n",
        "Both groups were instructed to change nothing else about their diets. Group A is referred to as the **control group** while group B is referred to as the **treatment group**. This type of study is called a [blind experiment](https://en.wikipedia.org/wiki/Blinded_experiment) since the participants didn't know which pill they were receiving. This helps us reduce the potential bias that is introduced when participants know which pill they were given. For example, participants who are aware they were given the weight loss pill may try to add healthier foods to their diet to help them lose more weight. Both groups were weighed before the study began and a month later, after the study ended.\n",
        "\n",
        "Understanding the **research design** for a study is an important first step that informs the rest of your analysis. It helps us uncover potential flaws in the study that we need to keep in mind as we dive deeper. The weight loss pill study we conducted is known as an experimental study. Experimental studies usually involve bringing in participants, instructing them to perform some tasks, and observing them. A key part of running an experimental study is random assignment, which involves assigning participants in the study to random groups without revealing which group each participant is in. Before exploring and analyzing a dataset, it's important to understand how the study was conducted. Flaws in how the study was run can lead you to reach the wrong conclusions."
      ]
    },
    {
      "cell_type": "markdown",
      "metadata": {
        "id": "SJg9ZkRizShD"
      },
      "source": [
        "### 1.1.3 Statistical significance"
      ]
    },
    {
      "cell_type": "markdown",
      "metadata": {
        "id": "4gXh35W5zhcy"
      },
      "source": [
        "Statistics helps us determine if the difference in the weight lost between the 2 groups (A and B) is because of random chance or because of an actual difference in the outcomes. If there is a meaningful difference, we say that the results are **statistically significant**. We'll dive into what this means exactly over the course of this section.\n",
        "\n",
        "Now that we're familiar with the study, let's state our null and alternative hypotheses more precisely. **Our null hypothesis should describe the default position of skepticism**, which is that there's no statistically significant difference between the outcomes of the 2 groups. Put another way, it should state that any difference is due to random chance. **Our alternative hypothesis should state that there is in fact a statistically significant difference between the outcomes of the 2 groups**.\n",
        "\n",
        "- **Null hypothesis**: participants who consumed the weight loss pills lost the same amount of weight as those who didn't take the pill.\n",
        "- **Alternative hypothesis**: participants who consumed the weight loss pills lost more weight than those who didn't take the pill.\n"
      ]
    },
    {
      "cell_type": "code",
      "source": [
        "# download the dataset \n",
        "!gdown https://drive.google.com/uc?id=1DLYijr4iVd128luLAjJ1LQbvZxlFjC-n"
      ],
      "metadata": {
        "colab": {
          "base_uri": "https://localhost:8080/"
        },
        "id": "IUhlx6aBfdqu",
        "outputId": "bd10a4df-b4b8-4f28-9edd-b1ca873be129"
      },
      "execution_count": 1,
      "outputs": [
        {
          "output_type": "stream",
          "name": "stdout",
          "text": [
            "Downloading...\n",
            "From: https://drive.google.com/uc?id=1DLYijr4iVd128luLAjJ1LQbvZxlFjC-n\n",
            "To: /content/weight_loss.csv\n",
            "\r  0% 0.00/201 [00:00<?, ?B/s]\r100% 201/201 [00:00<00:00, 591kB/s]\n"
          ]
        }
      ]
    },
    {
      "cell_type": "code",
      "metadata": {
        "id": "2oturiq_0MXO",
        "outputId": "21922f20-3c0c-431b-cb74-dc279d5e3f3c",
        "colab": {
          "base_uri": "https://localhost:8080/"
        }
      },
      "source": [
        "import pandas as pd\n",
        "import matplotlib.pyplot as plt\n",
        "\n",
        "# import the dataset\n",
        "data = pd.read_csv(\"weight_loss.csv\",names=[\"A\",\"B\"])\n",
        "\n",
        "# weight mean for group A and B\n",
        "mean_group_a = data.A.mean()\n",
        "mean_group_b = data.B.mean()\n",
        "\n",
        "# print the results\n",
        "print(mean_group_a,mean_group_b)"
      ],
      "execution_count": 2,
      "outputs": [
        {
          "output_type": "stream",
          "name": "stdout",
          "text": [
            "2.82 5.34\n"
          ]
        }
      ]
    },
    {
      "cell_type": "code",
      "metadata": {
        "id": "VR2pzDtbJ1X2",
        "outputId": "320ebbb6-d551-4f1e-bd2d-0b5248c6ab2c",
        "colab": {
          "base_uri": "https://localhost:8080/"
        }
      },
      "source": [
        "data.shape"
      ],
      "execution_count": 3,
      "outputs": [
        {
          "output_type": "execute_result",
          "data": {
            "text/plain": [
              "(50, 2)"
            ]
          },
          "metadata": {},
          "execution_count": 3
        }
      ]
    },
    {
      "cell_type": "code",
      "source": [
        "plt.style.available"
      ],
      "metadata": {
        "colab": {
          "base_uri": "https://localhost:8080/"
        },
        "id": "uJ73uqlZBODQ",
        "outputId": "6352a8df-d796-4110-df10-e9d3dda37f0f"
      },
      "execution_count": 35,
      "outputs": [
        {
          "output_type": "execute_result",
          "data": {
            "text/plain": [
              "['Solarize_Light2',\n",
              " '_classic_test_patch',\n",
              " 'bmh',\n",
              " 'classic',\n",
              " 'dark_background',\n",
              " 'fast',\n",
              " 'fivethirtyeight',\n",
              " 'ggplot',\n",
              " 'grayscale',\n",
              " 'seaborn',\n",
              " 'seaborn-bright',\n",
              " 'seaborn-colorblind',\n",
              " 'seaborn-dark',\n",
              " 'seaborn-dark-palette',\n",
              " 'seaborn-darkgrid',\n",
              " 'seaborn-deep',\n",
              " 'seaborn-muted',\n",
              " 'seaborn-notebook',\n",
              " 'seaborn-paper',\n",
              " 'seaborn-pastel',\n",
              " 'seaborn-poster',\n",
              " 'seaborn-talk',\n",
              " 'seaborn-ticks',\n",
              " 'seaborn-white',\n",
              " 'seaborn-whitegrid',\n",
              " 'tableau-colorblind10']"
            ]
          },
          "metadata": {},
          "execution_count": 35
        }
      ]
    },
    {
      "cell_type": "code",
      "metadata": {
        "id": "Aci-750J1CXd",
        "outputId": "381f7455-2798-4904-b0eb-82c2bde275e8",
        "colab": {
          "base_uri": "https://localhost:8080/",
          "height": 325
        }
      },
      "source": [
        "plt.style.use(\"fivethirtyeight\")\n",
        "fig, ax = plt.subplots(1,2,figsize=(8,4),sharey=True)\n",
        "data.hist(ax=ax)\n",
        "ax[0].set_title(\"Group A\")\n",
        "ax[0].set_xlabel(\"Weight Loss (pounds)\")\n",
        "ax[1].set_title(\"Group B\")\n",
        "ax[1].set_xlabel(\"Weight Loss (pounds)\")\n",
        "plt.savefig(dpi=300,transparent=True,\n",
        "            fname=\"hist.png\",bbox_inches=\"tight\")\n",
        "plt.show()"
      ],
      "execution_count": 39,
      "outputs": [
        {
          "output_type": "display_data",
          "data": {
            "image/png": "[encoded data removed]",
            "text/plain": [
              "<Figure size 576x288 with 2 Axes>"
            ]
          },
          "metadata": {}
        }
      ]
    },
    {
      "cell_type": "markdown",
      "metadata": {
        "id": "GLflHLYq1Lek"
      },
      "source": [
        "### 1.1.4 Test statistic"
      ]
    },
    {
      "cell_type": "markdown",
      "metadata": {
        "id": "4Fx2MbTF2d2V"
      },
      "source": [
        "To decide which hypothesis more accurately describes the data, we need to frame the hypotheses more quantitatively. The first step is to decide on a **test statistic**, which is a numerical value that summarizes the data and we can use in statistical formulas. We use this test statistic to run a statistical test that will determine how likely the difference between the groups were due to random chance.\n",
        "\n",
        "Since we want to know if the amount of weight lost between the groups is meaningfully different, we will use the difference in the means, also known as the mean difference, of the amount of weight lost for each group as the test statistic.\n",
        "\n",
        "The following symbol is used to represent the sample mean in statistics:\n",
        "\n",
        "$$\n",
        "\\bar{x}\n",
        "$$\n",
        "\n",
        "We will use:\n",
        "\n",
        "$$\n",
        "\\bar{x}_a\n",
        "$$\n",
        "\n",
        "to denote the mean of group A and\n",
        "\n",
        "$$\n",
        "\\bar{x}_b\n",
        "$$\n",
        "\n",
        "to denote the mean of group B. For the mean difference, we'll subtract the mean of group A from group B:\n",
        "\n",
        "$$\n",
        "\\bar{x}_b - \\bar{x}_a\n",
        "$$\n",
        "\n",
        "Now that we have decided on a test statistic, we can rewrite our hypotheses to be more precise:\n",
        "\n",
        "- Null hypothesis: $\\bar{x}_b - \\bar{x}_a = 0$\n",
        "- Alternative hypothesis: $\\bar{x}_b - \\bar{x}_a > 0$\n",
        "\n",
        "Note that while we've stated our hypotheses as equations, we're not simply calculating the difference and matching the result to hypothesis. We're instead using a statistical test to determine which of these statements better describes the data."
      ]
    },
    {
      "cell_type": "code",
      "metadata": {
        "id": "A4TuKOo03iIp",
        "outputId": "9e1d6118-d3cb-4883-8d95-1a8812be8a44",
        "colab": {
          "base_uri": "https://localhost:8080/"
        }
      },
      "source": [
        "mean_group_b - mean_group_a"
      ],
      "execution_count": 5,
      "outputs": [
        {
          "output_type": "execute_result",
          "data": {
            "text/plain": [
              "2.52"
            ]
          },
          "metadata": {},
          "execution_count": 5
        }
      ]
    },
    {
      "cell_type": "markdown",
      "metadata": {
        "id": "lNS6EiyMyNMu"
      },
      "source": [
        "$$\n",
        "\\bar{x}_b - \\bar{x}_a = 2.52\n",
        "$$"
      ]
    },
    {
      "cell_type": "markdown",
      "metadata": {
        "id": "x_34FWx24NkE"
      },
      "source": [
        "### 1.1.5 Permutation test"
      ]
    },
    {
      "cell_type": "markdown",
      "metadata": {
        "id": "HzPOH4nO4er2"
      },
      "source": [
        "Now that we have a test statistic, we need to decide on a statistical test. **The purpose of a statistical test is to work out the likelihood that the result we achieved was due to random chance**.\n",
        "\n",
        "The **permutation test** is a statistical test that involves simulating rerunning the study many times and recalculating the test statistic for each iteration. The goal is to calculate a distribution of the test statistics over these many iterations. This distribution is called the **sampling distribution** and it approximates the full range of possible test statistics under the null hypothesis. We can then benchmark the test statistic we observed in the data (a mean difference of 2.52) to determine how likely it is to observe this mean difference under the null hypothesis. If the null hypothesis is true, that the weight loss pill doesn't help people lose more weight, than the observed mean difference of 2.52 should be quite common in the sampling distribution. If it's instead extremely rare, then we accept the alternative hypothesis instead.\n",
        "\n",
        "To simulate rerunning the study, we randomly reassign each data point (weight lost) to either group A or group B. We keep track of the recalculated test statistics as a separate list. By re-randomizing the groups that the weight loss values belong to, we're simulating what randomly generated groupings of these weight loss values would look like. We then use these randomly generated groupings to understand how rare the groupings in our actual data were.\n",
        "\n",
        "Ideally, the number of times we re-randomize the groups that each data point belongs to matches the total number of possible permutations. Usually, the number of total permutations is too high for even powerful supercomputers to calculate within a reasonable time frame. While we'll use 1000 iterations for now since we'll get the results back quickly, in later we'll learn how to quantify the tradeoff we make between accuracy and speed to determine the optimal number of iterations.\n",
        "\n",
        "Since we'll be randomizing the groups each value belongs to, we created a list named **all_values** that contains just the weight loss values."
      ]
    },
    {
      "cell_type": "code",
      "metadata": {
        "id": "PfytVHcGRdX1",
        "outputId": "a6fa11c6-8452-4f86-f8c1-54221d1654c0",
        "colab": {
          "base_uri": "https://localhost:8080/"
        }
      },
      "source": [
        "import numpy as np\n",
        "# concatenate A and B in a vector\n",
        "df = pd.concat([data.A,data.B],axis=0,ignore_index=True)\n",
        "# shuffle all values\n",
        "all_values= df.reindex(np.random.permutation(df.index)).values\n",
        "all_values"
      ],
      "execution_count": 40,
      "outputs": [
        {
          "output_type": "execute_result",
          "data": {
            "text/plain": [
              "array([ 2,  3,  9,  5,  8,  3,  4,  5,  4,  1,  3,  3,  3,  2,  3,  1,  2,\n",
              "        3,  3,  5,  3,  2,  2,  7,  7,  3,  4,  5,  3,  5,  3,  2,  1,  7,\n",
              "        5,  1,  3,  4,  5,  2,  3, 10,  2,  1,  4,  7,  2,  4,  2,  1,  7,\n",
              "        2,  4,  4,  3,  3,  4,  2,  3,  4,  3,  3,  6,  7,  5,  5,  9,  3,\n",
              "        6,  4,  6,  2,  4,  6,  1,  4,  6,  2,  1,  5,  3,  5,  2,  7,  9,\n",
              "        3,  3,  5,  6,  5,  7,  7, 10,  5,  1,  6,  3,  4,  9,  2])"
            ]
          },
          "metadata": {},
          "execution_count": 40
        }
      ]
    },
    {
      "cell_type": "code",
      "metadata": {
        "id": "H3gZ9BEIM4yv",
        "outputId": "f57cebd1-59a6-4d4e-8f88-f5ddb7de4472",
        "colab": {
          "base_uri": "https://localhost:8080/",
          "height": 304
        }
      },
      "source": [
        "mean_difference = 2.52\n",
        "mean_differences = []\n",
        "for i in range(1000):\n",
        "    group_a = []\n",
        "    group_b = []\n",
        "    for value in all_values:\n",
        "        assignment_chance = np.random.rand()\n",
        "        if assignment_chance >= 0.5:\n",
        "            group_a.append(value)\n",
        "        else:\n",
        "            group_b.append(value)\n",
        "    iter_diff = np.mean(group_b) - np.mean(group_a)\n",
        "    mean_differences.append(iter_diff)\n",
        "\n",
        "\n",
        "plt.hist(mean_differences)\n",
        "plt.xlabel(\"Mean(b) - Mean(a)\")\n",
        "plt.savefig(dpi=300,transparent=True,\n",
        "            fname=\"permutation_test.png\",bbox_inches=\"tight\")\n",
        "plt.show()"
      ],
      "execution_count": 46,
      "outputs": [
        {
          "output_type": "display_data",
          "data": {
            "image/png": "[encoded data removed]",
            "text/plain": [
              "<Figure size 432x288 with 1 Axes>"
            ]
          },
          "metadata": {}
        }
      ]
    },
    {
      "cell_type": "markdown",
      "metadata": {
        "id": "e34skKAWSFps"
      },
      "source": [
        "### 1.1.6 Sampling distribution"
      ]
    },
    {
      "cell_type": "markdown",
      "metadata": {
        "id": "BUckHShdT22O"
      },
      "source": [
        "By randomly assigning participants to group A or group B, we account for the effect of random chance. Someone in group B who just happened to lose more weight (but not because of the pills) makes the results look better than they were. By creating many permutations, we're able to see all possible configurations of this error. Creating a histogram enables us to see how likely different values of our test statistic are if we repeated our experiment many times.\n",
        "\n",
        "The histogram we generated in the previous step using Matplotlib is a visual representation of the sampling distribution. Let's now create a dictionary that contains the values in the sampling distribution so we can benchmark our observed test statistic against it.\n",
        "\n",
        "The keys in the dictionary should be the test statistic and the values should be their frequency:\n",
        "\n",
        "```python\n",
        "{\n",
        "    0.34943639291465356: 3,\n",
        "    -0.55702280912364888: 2, \n",
        "    -0.14942528735632177: 1\n",
        "    ....\n",
        "}\n",
        "```\n",
        "\n",
        "We need to first count up how frequently each value in the list, **mean_differences**, occurs. As we loop over **mean_differences**, we need a way to check if the test statistic is already in our dictionary:\n",
        "\n",
        "- If it is, we look up the value at that key, add 1 to it, and assign the new value to the key.\n",
        "- If it isn't, we add the key to the dictionary and assign the value 1 to it."
      ]
    },
    {
      "cell_type": "code",
      "metadata": {
        "id": "v40VlVmEUWC3"
      },
      "source": [
        "sampling_distribution = {}\n",
        "for diff in mean_differences:\n",
        "    if sampling_distribution.get(diff, False):\n",
        "        sampling_distribution[diff] = sampling_distribution[diff] + 1\n",
        "    else:\n",
        "        sampling_distribution[diff] = 1"
      ],
      "execution_count": 47,
      "outputs": []
    },
    {
      "cell_type": "code",
      "metadata": {
        "id": "_4pxn5VzVAau",
        "outputId": "bfab5074-7652-4181-a579-2155c6b416e6",
        "colab": {
          "base_uri": "https://localhost:8080/"
        }
      },
      "source": [
        "sorted(sampling_distribution.items(), key=lambda kv: kv[1],reverse=True)[:10]"
      ],
      "execution_count": 53,
      "outputs": [
        {
          "output_type": "execute_result",
          "data": {
            "text/plain": [
              "[(0.15686274509803955, 8),\n",
              " (0.07371794871794801, 7),\n",
              " (0.4800000000000004, 7),\n",
              " (0.3233293317326935, 6),\n",
              " (0.08000000000000007, 6),\n",
              " (0.20673076923076916, 6),\n",
              " (0.19999999999999973, 6),\n",
              " (-0.049779205138499094, 5),\n",
              " (-0.08000000000000007, 5),\n",
              " (0.3115214773183461, 5)]"
            ]
          },
          "metadata": {},
          "execution_count": 53
        }
      ]
    },
    {
      "cell_type": "markdown",
      "metadata": {
        "id": "tH3IGkIjVBdS"
      },
      "source": [
        "### 1.1.7 P value"
      ]
    },
    {
      "cell_type": "markdown",
      "metadata": {
        "id": "f7Q62w0EueQH"
      },
      "source": [
        "In the sampling distribution we generated, most of the values are closely centered around the mean difference of 0. This means that if it were purely up to chance, both groups would have lost the same amount of weight (the null hypothesis). But since the observed test statistic is not near 0, it could mean that the weight loss pills could be responsible for the mean difference in the study.\n",
        "\n",
        "We can now use the sampling distribution to determine the number of times a value of 2.52 or higher appeared in our simulations. If we then divide that frequency by 1000, we'll have the probability of observing a mean difference of 2.52 or higher purely due to random chance.\n",
        "\n",
        "This probability is called the **p value**. If this **value is high, it means that the difference in the amount of weight both groups lost could have easily happened randomly and the weight loss pills probably didn't play a role**. On the other hand, a low p value implies that there's an incredibly small probability that the mean difference we observed was because of random chance."
      ]
    },
    {
      "cell_type": "code",
      "metadata": {
        "id": "Ye8ItRtvWsoF",
        "outputId": "7ab74cbc-7751-452f-b75d-665f26e2827a",
        "colab": {
          "base_uri": "https://localhost:8080/"
        }
      },
      "source": [
        "frequencies = []\n",
        "for sp in sampling_distribution.keys():\n",
        "    if sp >= 2.52:\n",
        "        frequencies.append(sampling_distribution[sp])\n",
        "p_value = np.sum(frequencies) / 1000\n",
        "p_value"
      ],
      "execution_count": 50,
      "outputs": [
        {
          "output_type": "execute_result",
          "data": {
            "text/plain": [
              "0.0"
            ]
          },
          "metadata": {},
          "execution_count": 50
        }
      ]
    },
    {
      "cell_type": "markdown",
      "metadata": {
        "id": "eGcd1BzHtIc5"
      },
      "source": [
        "In general, it's good practice to set the **p value** threshold before conducting the study:\n",
        "\n",
        "- if the **p value** is less than the threshold, we:\n",
        "  - **reject the null hypothesis** that there's no difference in mean amount of weight lost by participants in both groups,\n",
        "  - **accept the alternative hypothesis** that the people who consumed the weight loss pill lost more weight,\n",
        "  - conclude that the weight loss pill does affect the amount of weight people lost.\n",
        "- if the **p value** is greater than the threshold, we:\n",
        "  - **fail to reject the null hypothesis** that there's no difference in the mean amount of weight lost by participants in both groups,\n",
        "  - **reject the alternative hypothesis** that the people who consumed the weight loss pill lost more weight,\n",
        "  - conclude that the weight loss pill doesn't seem to be effective in helping people lose more weight.\n",
        "\n",
        "The most common **p value** threshold is 0.05 or 5%, which is what we'll use in this section. Although .05 is an arbitrary threshold, it means that there's only a 5% chance that the results are due to random chance, which most researchers are comfortable with."
      ]
    }
  ]
}